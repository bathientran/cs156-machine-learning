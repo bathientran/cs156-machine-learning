{
 "cells": [
  {
   "cell_type": "code",
   "execution_count": 20,
   "metadata": {},
   "outputs": [],
   "source": [
    "import pandas as pd\n",
    "from sklearn import linear_model\n",
    "from sklearn.metrics import mean_squared_error, r2_score, mean_absolute_error\n",
    "from sklearn.model_selection import train_test_split\n",
    "from sklearn.model_selection import cross_val_score"
   ]
  },
  {
   "cell_type": "code",
   "execution_count": 105,
   "metadata": {
    "tags": []
   },
   "outputs": [],
   "source": [
    "# all variables\n",
    "fb_train = pd.read_csv(\"./facebook_train.csv\")\n",
    "fb_train = pd.concat([fb_train, pd.get_dummies(fb_train[\"type\"]), pd.get_dummies(fb_train[\"category\"]), pd.get_dummies(fb_train[\"weekday\"]), pd.get_dummies(fb_train[\"month\"]), pd.get_dummies(fb_train[\"hour\"])], axis=1)\n",
    "fb_train = fb_train.drop([\"type\", \"category\", \"month\", \"weekday\", \"hour\"], axis=1)\n",
    "fb_train.columns = [\"followers\", \"paid\", \"comments\", \"likes\", \"shares\", \"Link\", \"Photo\", \"Status\", \"Video\", \"Category 1\", \"Category 2\", \"Category 3\", \"Mon\",\"Tue\",\"Wed\",\"Thu\",\"Fri\",\"Sat\",\"Sun\", \"Jan\",\"Feb\",\"Mar\",\"May\",\"Apr\",\"Jun\", \"Jul\", \"Aug\",\"Sep\",\"Oct\",\"Nov\", \"Dez\", \"1am\", \"2am\", \"3am\", \"4am\", \"5am\", \"6am\", \"7am\", \"8am\", \"9am\", \"12pm\", \"3pm\", \"4pm\", \"5pm\", \"6pm\", \"7pm\", \"8pm\", \"9pm\",\"10pm\", \"11pm\",\"12am\"]"
   ]
  },
  {
   "cell_type": "code",
   "execution_count": 36,
   "metadata": {},
   "outputs": [],
   "source": [
    "#no hours and above\n",
    "fb_train = pd.read_csv(\"./facebook_train.csv\")\n",
    "fb_train = pd.concat([fb_train, pd.get_dummies(fb_train[\"type\"]), pd.get_dummies(fb_train[\"category\"]), pd.get_dummies(fb_train[\"weekday\"]), pd.get_dummies(fb_train[\"month\"])], axis=1)\n",
    "fb_train = fb_train.drop([\"type\", \"category\", \"month\", \"weekday\", \"hour\"], axis=1)\n",
    "fb_train.columns = [\"followers\", \"paid\", \"comments\", \"likes\", \"shares\", \"Link\", \"Photo\", \"Status\", \"Video\", \"Category 1\", \"Category 2\", \"Category 3\", \"Mon\",\"Tue\",\"Wed\",\"Thu\",\"Fri\",\"Sat\",\"Sun\", \"Jan\",\"Feb\",\"Mar\",\"May\",\"Apr\",\"Jun\", \"Jul\", \"Aug\",\"Sep\",\"Oct\",\"Nov\", \"Dez\"]"
   ]
  },
  {
   "cell_type": "code",
   "execution_count": 41,
   "metadata": {},
   "outputs": [],
   "source": [
    "#no month and above\n",
    "fb_train = pd.read_csv(\"./facebook_train.csv\")\n",
    "fb_train = pd.concat([fb_train, pd.get_dummies(fb_train[\"type\"]), pd.get_dummies(fb_train[\"category\"]), pd.get_dummies(fb_train[\"weekday\"])], axis=1)\n",
    "fb_train = fb_train.drop([\"type\", \"category\", \"month\", \"weekday\", \"hour\"], axis=1)\n",
    "fb_train.columns = [\"followers\", \"paid\", \"comments\", \"likes\", \"shares\", \"Link\", \"Photo\", \"Status\", \"Video\", \"Category 1\", \"Category 2\", \"Category 3\", \"Mon\",\"Tue\",\"Wed\",\"Thu\",\"Fri\",\"Sat\",\"Sun\"]"
   ]
  },
  {
   "cell_type": "code",
   "execution_count": 96,
   "metadata": {},
   "outputs": [],
   "source": [
    "#no day of the week and above\n",
    "fb_train = pd.read_csv(\"./facebook_train.csv\")\n",
    "fb_train = pd.concat([fb_train, pd.get_dummies(fb_train[\"type\"]), pd.get_dummies(fb_train[\"category\"])], axis=1)\n",
    "fb_train = fb_train.drop([\"type\", \"category\", \"month\", \"weekday\", \"hour\"], axis=1)\n",
    "fb_train.columns = [\"followers\", \"paid\", \"comments\", \"likes\", \"shares\", \"Link\", \"Photo\", \"Status\", \"Video\", \"Category 1\", \"Category 2\", \"Category 3\"]"
   ]
  },
  {
   "cell_type": "code",
   "execution_count": 100,
   "metadata": {},
   "outputs": [],
   "source": [
    "#only paid\n",
    "fb_train = pd.read_csv(\"./facebook_train.csv\")\n",
    "fb_train = pd.concat([fb_train, pd.get_dummies(fb_train[\"type\"])], axis=1)\n",
    "fb_train = fb_train.drop([\"total_followers\", \"type\", \"category\", \"month\", \"weekday\", \"hour\",\"paid\"], axis=1)\n",
    "fb_train.columns = [\"comments\", \"likes\", \"shares\",\"Link\", \"Photo\", \"Status\", \"Video\"]"
   ]
  },
  {
   "cell_type": "code",
   "execution_count": 146,
   "metadata": {},
   "outputs": [
    {
     "data": {
      "text/plain": [
       "64       89\n",
       "55       18\n",
       "316     430\n",
       "102    2306\n",
       "261     122\n",
       "       ... \n",
       "323     618\n",
       "192      67\n",
       "117    1479\n",
       "47      421\n",
       "172     423\n",
       "Name: likes, Length: 317, dtype: int64"
      ]
     },
     "execution_count": 146,
     "metadata": {},
     "output_type": "execute_result"
    }
   ],
   "source": [
    "#splitting model\n",
    "fb_model = fb_train.drop([\"comments\", \"shares\"], axis=1)\n",
    "fb_target = fb_model.likes\n",
    "x_train, x_test, y_train, y_test = train_test_split(fb_model, fb_target, test_size=0.2, random_state=0)\n",
    "x_train = x_train.drop([\"likes\"], axis=1)\n",
    "y_train"
   ]
  },
  {
   "cell_type": "code",
   "execution_count": 147,
   "metadata": {},
   "outputs": [
    {
     "name": "stdout",
     "output_type": "stream",
     "text": [
      "[-0.01836078 -0.79644755 -0.96533959 -0.36696886 -0.69573124 -2.8097023\n",
      " -0.50664432 -0.04484552 -0.05080879 -1.22232566]\n"
     ]
    },
    {
     "data": {
      "text/plain": [
       "LinearRegression()"
      ]
     },
     "execution_count": 147,
     "metadata": {},
     "output_type": "execute_result"
    }
   ],
   "source": [
    "#running regression and cross validation\n",
    "reg = linear_model.LinearRegression()\n",
    "scores = cross_val_score(reg, x_train, y_train, cv=10)\n",
    "print(scores)\n",
    "reg.fit(x_train, y_train)"
   ]
  },
  {
   "cell_type": "code",
   "execution_count": 148,
   "metadata": {
    "tags": []
   },
   "outputs": [
    {
     "data": {
      "text/html": [
       "<div>\n",
       "<style scoped>\n",
       "    .dataframe tbody tr th:only-of-type {\n",
       "        vertical-align: middle;\n",
       "    }\n",
       "\n",
       "    .dataframe tbody tr th {\n",
       "        vertical-align: top;\n",
       "    }\n",
       "\n",
       "    .dataframe thead th {\n",
       "        text-align: right;\n",
       "    }\n",
       "</style>\n",
       "<table border=\"1\" class=\"dataframe\">\n",
       "  <thead>\n",
       "    <tr style=\"text-align: right;\">\n",
       "      <th></th>\n",
       "      <th>var</th>\n",
       "      <th>coef</th>\n",
       "    </tr>\n",
       "  </thead>\n",
       "  <tbody>\n",
       "    <tr>\n",
       "      <th>42</th>\n",
       "      <td>7pm</td>\n",
       "      <td>647.67</td>\n",
       "    </tr>\n",
       "    <tr>\n",
       "      <th>16</th>\n",
       "      <td>Jan</td>\n",
       "      <td>581.07</td>\n",
       "    </tr>\n",
       "    <tr>\n",
       "      <th>17</th>\n",
       "      <td>Feb</td>\n",
       "      <td>415.74</td>\n",
       "    </tr>\n",
       "    <tr>\n",
       "      <th>18</th>\n",
       "      <td>Mar</td>\n",
       "      <td>216.70</td>\n",
       "    </tr>\n",
       "    <tr>\n",
       "      <th>31</th>\n",
       "      <td>4am</td>\n",
       "      <td>209.01</td>\n",
       "    </tr>\n",
       "    <tr>\n",
       "      <th>34</th>\n",
       "      <td>7am</td>\n",
       "      <td>175.54</td>\n",
       "    </tr>\n",
       "    <tr>\n",
       "      <th>19</th>\n",
       "      <td>May</td>\n",
       "      <td>158.09</td>\n",
       "    </tr>\n",
       "    <tr>\n",
       "      <th>1</th>\n",
       "      <td>paid</td>\n",
       "      <td>102.86</td>\n",
       "    </tr>\n",
       "    <tr>\n",
       "      <th>15</th>\n",
       "      <td>Sun</td>\n",
       "      <td>98.36</td>\n",
       "    </tr>\n",
       "    <tr>\n",
       "      <th>14</th>\n",
       "      <td>Sat</td>\n",
       "      <td>63.47</td>\n",
       "    </tr>\n",
       "    <tr>\n",
       "      <th>7</th>\n",
       "      <td>Category 2</td>\n",
       "      <td>61.10</td>\n",
       "    </tr>\n",
       "    <tr>\n",
       "      <th>5</th>\n",
       "      <td>Video</td>\n",
       "      <td>46.79</td>\n",
       "    </tr>\n",
       "    <tr>\n",
       "      <th>3</th>\n",
       "      <td>Photo</td>\n",
       "      <td>44.56</td>\n",
       "    </tr>\n",
       "    <tr>\n",
       "      <th>20</th>\n",
       "      <td>Apr</td>\n",
       "      <td>35.91</td>\n",
       "    </tr>\n",
       "    <tr>\n",
       "      <th>47</th>\n",
       "      <td>12am</td>\n",
       "      <td>31.85</td>\n",
       "    </tr>\n",
       "    <tr>\n",
       "      <th>13</th>\n",
       "      <td>Fri</td>\n",
       "      <td>25.22</td>\n",
       "    </tr>\n",
       "    <tr>\n",
       "      <th>35</th>\n",
       "      <td>8am</td>\n",
       "      <td>15.30</td>\n",
       "    </tr>\n",
       "    <tr>\n",
       "      <th>9</th>\n",
       "      <td>Mon</td>\n",
       "      <td>13.31</td>\n",
       "    </tr>\n",
       "    <tr>\n",
       "      <th>8</th>\n",
       "      <td>Category 3</td>\n",
       "      <td>9.76</td>\n",
       "    </tr>\n",
       "    <tr>\n",
       "      <th>0</th>\n",
       "      <td>followers</td>\n",
       "      <td>0.02</td>\n",
       "    </tr>\n",
       "    <tr>\n",
       "      <th>33</th>\n",
       "      <td>6am</td>\n",
       "      <td>0.00</td>\n",
       "    </tr>\n",
       "    <tr>\n",
       "      <th>40</th>\n",
       "      <td>5pm</td>\n",
       "      <td>-0.23</td>\n",
       "    </tr>\n",
       "    <tr>\n",
       "      <th>29</th>\n",
       "      <td>2am</td>\n",
       "      <td>-15.44</td>\n",
       "    </tr>\n",
       "    <tr>\n",
       "      <th>41</th>\n",
       "      <td>6pm</td>\n",
       "      <td>-19.04</td>\n",
       "    </tr>\n",
       "    <tr>\n",
       "      <th>2</th>\n",
       "      <td>Link</td>\n",
       "      <td>-35.59</td>\n",
       "    </tr>\n",
       "    <tr>\n",
       "      <th>30</th>\n",
       "      <td>3am</td>\n",
       "      <td>-37.25</td>\n",
       "    </tr>\n",
       "    <tr>\n",
       "      <th>22</th>\n",
       "      <td>Jul</td>\n",
       "      <td>-38.59</td>\n",
       "    </tr>\n",
       "    <tr>\n",
       "      <th>32</th>\n",
       "      <td>5am</td>\n",
       "      <td>-44.15</td>\n",
       "    </tr>\n",
       "    <tr>\n",
       "      <th>43</th>\n",
       "      <td>8pm</td>\n",
       "      <td>-47.63</td>\n",
       "    </tr>\n",
       "    <tr>\n",
       "      <th>39</th>\n",
       "      <td>4pm</td>\n",
       "      <td>-50.55</td>\n",
       "    </tr>\n",
       "    <tr>\n",
       "      <th>4</th>\n",
       "      <td>Status</td>\n",
       "      <td>-55.75</td>\n",
       "    </tr>\n",
       "    <tr>\n",
       "      <th>11</th>\n",
       "      <td>Wed</td>\n",
       "      <td>-58.97</td>\n",
       "    </tr>\n",
       "    <tr>\n",
       "      <th>10</th>\n",
       "      <td>Tue</td>\n",
       "      <td>-59.10</td>\n",
       "    </tr>\n",
       "    <tr>\n",
       "      <th>28</th>\n",
       "      <td>1am</td>\n",
       "      <td>-62.79</td>\n",
       "    </tr>\n",
       "    <tr>\n",
       "      <th>6</th>\n",
       "      <td>Category 1</td>\n",
       "      <td>-70.85</td>\n",
       "    </tr>\n",
       "    <tr>\n",
       "      <th>37</th>\n",
       "      <td>12pm</td>\n",
       "      <td>-72.18</td>\n",
       "    </tr>\n",
       "    <tr>\n",
       "      <th>46</th>\n",
       "      <td>11pm</td>\n",
       "      <td>-73.84</td>\n",
       "    </tr>\n",
       "    <tr>\n",
       "      <th>12</th>\n",
       "      <td>Thu</td>\n",
       "      <td>-82.28</td>\n",
       "    </tr>\n",
       "    <tr>\n",
       "      <th>36</th>\n",
       "      <td>9am</td>\n",
       "      <td>-124.26</td>\n",
       "    </tr>\n",
       "    <tr>\n",
       "      <th>44</th>\n",
       "      <td>9pm</td>\n",
       "      <td>-126.36</td>\n",
       "    </tr>\n",
       "    <tr>\n",
       "      <th>25</th>\n",
       "      <td>Oct</td>\n",
       "      <td>-146.35</td>\n",
       "    </tr>\n",
       "    <tr>\n",
       "      <th>45</th>\n",
       "      <td>10pm</td>\n",
       "      <td>-171.78</td>\n",
       "    </tr>\n",
       "    <tr>\n",
       "      <th>21</th>\n",
       "      <td>Jun</td>\n",
       "      <td>-182.77</td>\n",
       "    </tr>\n",
       "    <tr>\n",
       "      <th>24</th>\n",
       "      <td>Sep</td>\n",
       "      <td>-214.09</td>\n",
       "    </tr>\n",
       "    <tr>\n",
       "      <th>23</th>\n",
       "      <td>Aug</td>\n",
       "      <td>-223.37</td>\n",
       "    </tr>\n",
       "    <tr>\n",
       "      <th>38</th>\n",
       "      <td>3pm</td>\n",
       "      <td>-233.88</td>\n",
       "    </tr>\n",
       "    <tr>\n",
       "      <th>27</th>\n",
       "      <td>Dez</td>\n",
       "      <td>-290.02</td>\n",
       "    </tr>\n",
       "    <tr>\n",
       "      <th>26</th>\n",
       "      <td>Nov</td>\n",
       "      <td>-312.32</td>\n",
       "    </tr>\n",
       "  </tbody>\n",
       "</table>\n",
       "</div>"
      ],
      "text/plain": [
       "           var    coef\n",
       "42         7pm  647.67\n",
       "16         Jan  581.07\n",
       "17         Feb  415.74\n",
       "18         Mar  216.70\n",
       "31         4am  209.01\n",
       "34         7am  175.54\n",
       "19         May  158.09\n",
       "1         paid  102.86\n",
       "15         Sun   98.36\n",
       "14         Sat   63.47\n",
       "7   Category 2   61.10\n",
       "5        Video   46.79\n",
       "3        Photo   44.56\n",
       "20         Apr   35.91\n",
       "47        12am   31.85\n",
       "13         Fri   25.22\n",
       "35         8am   15.30\n",
       "9          Mon   13.31\n",
       "8   Category 3    9.76\n",
       "0    followers    0.02\n",
       "33         6am    0.00\n",
       "40         5pm   -0.23\n",
       "29         2am  -15.44\n",
       "41         6pm  -19.04\n",
       "2         Link  -35.59\n",
       "30         3am  -37.25\n",
       "22         Jul  -38.59\n",
       "32         5am  -44.15\n",
       "43         8pm  -47.63\n",
       "39         4pm  -50.55\n",
       "4       Status  -55.75\n",
       "11         Wed  -58.97\n",
       "10         Tue  -59.10\n",
       "28         1am  -62.79\n",
       "6   Category 1  -70.85\n",
       "37        12pm  -72.18\n",
       "46        11pm  -73.84\n",
       "12         Thu  -82.28\n",
       "36         9am -124.26\n",
       "44         9pm -126.36\n",
       "25         Oct -146.35\n",
       "45        10pm -171.78\n",
       "21         Jun -182.77\n",
       "24         Sep -214.09\n",
       "23         Aug -223.37\n",
       "38         3pm -233.88\n",
       "27         Dez -290.02\n",
       "26         Nov -312.32"
      ]
     },
     "execution_count": 148,
     "metadata": {},
     "output_type": "execute_result"
    }
   ],
   "source": [
    "#displaying coefficients for linear model\n",
    "results_df = pd.DataFrame({\"var\": fb_model.drop([\"likes\"], axis=1).columns, \"coef\": reg.coef_})\n",
    "\n",
    "results_df.round(2).sort_values('coef',ascending=False)"
   ]
  },
  {
   "cell_type": "code",
   "execution_count": 149,
   "metadata": {
    "tags": []
   },
   "outputs": [
    {
     "name": "stdout",
     "output_type": "stream",
     "text": [
      "131740.65351615925\n",
      "212.83526390027322\n",
      "-0.24350268549993337\n"
     ]
    }
   ],
   "source": [
    "#showing results\n",
    "print(mean_squared_error(y_test, reg.predict(x_test.drop([\"likes\"], axis=1))))\n",
    "print(mean_absolute_error(y_test, reg.predict(x_test.drop([\"likes\"], axis=1))))\n",
    "print(r2_score(y_test, reg.predict(x_test.drop([\"likes\"], axis=1))))"
   ]
  },
  {
   "cell_type": "markdown",
   "metadata": {},
   "source": [
    "# Interpretation"
   ]
  },
  {
   "cell_type": "markdown",
   "metadata": {},
   "source": [
    "The linear model is performing very poorly as suggested by the cross-validation test and the negative scores – a negative score indicates that simply taking the mean would perform better than the model itself. This is very likely since there shouldn't be a linear relationship between the number of likes for a given post and all the other variables. Moreover, some of the variables are not complete (such as time of the day).\n",
    "\n",
    "To check if this occurs due to model complexity I ran the regression with multiple number of reduced parameters. The more parameters I withhold, the better the prediction. However, this assumes a linear relationship which I am then just optimizing for. Instead it would have been better to find a non-polynomial or n-degree polynomial model that better represents the underlying relationship and bias.\n",
    "\n",
    "When running the regression with all parameters, the following seems to influence the number of likes the most:\n",
    "\n",
    "- Either early morning or evening (but not too late)\n",
    "- Beginning of the year\n",
    "- End of the week\n",
    "- Paid\n",
    "- Category 2\n",
    "- Video or Photo\n",
    "\n",
    "The opposite of that seems to reduce likes the most (aka late in the evening, mid to end of the year)."
   ]
  },
  {
   "cell_type": "code",
   "execution_count": 115,
   "metadata": {},
   "outputs": [],
   "source": [
    "import numpy as np\n",
    "from sklearn.ensemble import RandomForestClassifier "
   ]
  },
  {
   "cell_type": "code",
   "execution_count": 150,
   "metadata": {
    "tags": []
   },
   "outputs": [
    {
     "name": "stdout",
     "output_type": "stream",
     "text": [
      "  casualty_class  gender age  severe pedestrian_location pedestrian_movement  \\\n",
      "0      passenger  female  33   False                 NaN                 NaN   \n",
      "1      passenger  female  20   False                 NaN                 NaN   \n",
      "2      passenger    male  52   False                 NaN                 NaN   \n",
      "3      passenger  female  17   False                 NaN                 NaN   \n",
      "4      passenger  female  20   False                 NaN                 NaN   \n",
      "\n",
      "       travel  year  \n",
      "0   motorbike  2007  \n",
      "1         car  2005  \n",
      "2         car  2006  \n",
      "3  pedestrian  2012  \n",
      "4   motorbike  2010  \n",
      "[nan 'In road' 'Close to Crossing' 'Not on Crossing' 'Pedestrian Crossing'\n",
      " 'Footpath' 'Zig-Zag']\n",
      "[nan 'In Rd Not Crossing' 'Drivers N/Side' 'Drivers O/Side'\n",
      " 'Unknown Or Other' 'Back To Traffic' 'Drivers N/Side Msk'\n",
      " 'Drivers O/Side Msk' 'Facing Traffic' 'In Rd Not Crossing Msk']\n"
     ]
    }
   ],
   "source": [
    "#loading and inspecting data\n",
    "casual_data = pd.read_csv(\"./casualty_train.csv\")\n",
    "casual_data = casual_data[(casual_data['age'] != 'Unknown')]\n",
    "casual_data = casual_data[(casual_data['pedestrian_location'] != 'Unknown')]\n",
    "print(casual_data.head())\n",
    "print(casual_data.pedestrian_location.unique())\n",
    "print(casual_data.pedestrian_movement.unique())"
   ]
  },
  {
   "cell_type": "code",
   "execution_count": 152,
   "metadata": {},
   "outputs": [],
   "source": [
    "#all variables\n",
    "casual_data_dummy = pd.concat([casual_data, pd.get_dummies(casual_data[\"casualty_class\"]), pd.get_dummies(casual_data[\"gender\"]), pd.get_dummies(casual_data[\"travel\"]), pd.get_dummies(casual_data[\"pedestrian_location\"]), pd.get_dummies(casual_data[\"pedestrian_movement\"]), pd.get_dummies(casual_data[\"year\"])], axis=1).drop([\"casualty_class\", \"gender\", \"pedestrian_location\", \"pedestrian_movement\", \"travel\",\"year\"],axis=1)"
   ]
  },
  {
   "cell_type": "code",
   "execution_count": 153,
   "metadata": {},
   "outputs": [],
   "source": [
    "#no pedestrian movement\n",
    "casual_data_dummy = pd.concat([casual_data, pd.get_dummies(casual_data[\"casualty_class\"]), pd.get_dummies(casual_data[\"gender\"]), pd.get_dummies(casual_data[\"travel\"]), pd.get_dummies(casual_data[\"pedestrian_location\"]), pd.get_dummies(casual_data[\"year\"])], axis=1).drop([\"casualty_class\", \"gender\", \"pedestrian_location\", \"pedestrian_movement\", \"travel\",\"year\"],axis=1)"
   ]
  },
  {
   "cell_type": "code",
   "execution_count": 154,
   "metadata": {},
   "outputs": [],
   "source": [
    "#no pedestrian location and above\n",
    "casual_data_dummy = pd.concat([casual_data, pd.get_dummies(casual_data[\"casualty_class\"]), pd.get_dummies(casual_data[\"gender\"]), pd.get_dummies(casual_data[\"travel\"]), pd.get_dummies(casual_data[\"year\"])], axis=1).drop([\"casualty_class\", \"gender\", \"pedestrian_location\", \"pedestrian_movement\", \"travel\",\"year\"],axis=1)"
   ]
  },
  {
   "cell_type": "code",
   "execution_count": 155,
   "metadata": {},
   "outputs": [],
   "source": [
    "#no year and above\n",
    "casual_data_dummy = pd.concat([casual_data, pd.get_dummies(casual_data[\"casualty_class\"]), pd.get_dummies(casual_data[\"gender\"]), pd.get_dummies(casual_data[\"travel\"])], axis=1).drop([\"casualty_class\", \"gender\", \"pedestrian_location\", \"pedestrian_movement\", \"travel\",\"year\"],axis=1)"
   ]
  },
  {
   "cell_type": "code",
   "execution_count": 156,
   "metadata": {},
   "outputs": [
    {
     "data": {
      "text/plain": [
       "Index(['age', 'driver', 'passenger', 'pedestrian', 'female', 'male', 'bicycle',\n",
       "       'bus', 'car', 'motorbike', 'other', 'pedestrian', 'taxi'],\n",
       "      dtype='object')"
      ]
     },
     "execution_count": 156,
     "metadata": {},
     "output_type": "execute_result"
    }
   ],
   "source": [
    "#data splitting\n",
    "x_train, x_test, y_train, y_test = train_test_split(casual_data_dummy.drop([\"severe\"], axis=1), casual_data_dummy.severe, test_size=0.2, random_state=0)\n",
    "x_train.columns"
   ]
  },
  {
   "cell_type": "code",
   "execution_count": 157,
   "metadata": {},
   "outputs": [
    {
     "name": "stdout",
     "output_type": "stream",
     "text": [
      "0.8925652640919068\n"
     ]
    }
   ],
   "source": [
    "#running classification\n",
    "rf = RandomForestClassifier()\n",
    "rf.fit(x_train, y_train) \n",
    "print(rf.score(x_test, y_test))"
   ]
  },
  {
   "cell_type": "code",
   "execution_count": 158,
   "metadata": {},
   "outputs": [
    {
     "data": {
      "text/html": [
       "<div>\n",
       "<style scoped>\n",
       "    .dataframe tbody tr th:only-of-type {\n",
       "        vertical-align: middle;\n",
       "    }\n",
       "\n",
       "    .dataframe tbody tr th {\n",
       "        vertical-align: top;\n",
       "    }\n",
       "\n",
       "    .dataframe thead th {\n",
       "        text-align: right;\n",
       "    }\n",
       "</style>\n",
       "<table border=\"1\" class=\"dataframe\">\n",
       "  <thead>\n",
       "    <tr style=\"text-align: right;\">\n",
       "      <th></th>\n",
       "      <th>importance</th>\n",
       "    </tr>\n",
       "  </thead>\n",
       "  <tbody>\n",
       "    <tr>\n",
       "      <th>age</th>\n",
       "      <td>0.444847</td>\n",
       "    </tr>\n",
       "    <tr>\n",
       "      <th>driver</th>\n",
       "      <td>0.025597</td>\n",
       "    </tr>\n",
       "    <tr>\n",
       "      <th>passenger</th>\n",
       "      <td>0.025116</td>\n",
       "    </tr>\n",
       "    <tr>\n",
       "      <th>pedestrian</th>\n",
       "      <td>0.129880</td>\n",
       "    </tr>\n",
       "    <tr>\n",
       "      <th>female</th>\n",
       "      <td>0.011688</td>\n",
       "    </tr>\n",
       "    <tr>\n",
       "      <th>male</th>\n",
       "      <td>0.012966</td>\n",
       "    </tr>\n",
       "    <tr>\n",
       "      <th>bicycle</th>\n",
       "      <td>0.101521</td>\n",
       "    </tr>\n",
       "    <tr>\n",
       "      <th>bus</th>\n",
       "      <td>0.007733</td>\n",
       "    </tr>\n",
       "    <tr>\n",
       "      <th>car</th>\n",
       "      <td>0.155882</td>\n",
       "    </tr>\n",
       "    <tr>\n",
       "      <th>motorbike</th>\n",
       "      <td>0.048790</td>\n",
       "    </tr>\n",
       "    <tr>\n",
       "      <th>other</th>\n",
       "      <td>0.005406</td>\n",
       "    </tr>\n",
       "    <tr>\n",
       "      <th>pedestrian</th>\n",
       "      <td>0.022619</td>\n",
       "    </tr>\n",
       "    <tr>\n",
       "      <th>taxi</th>\n",
       "      <td>0.007955</td>\n",
       "    </tr>\n",
       "  </tbody>\n",
       "</table>\n",
       "</div>"
      ],
      "text/plain": [
       "            importance\n",
       "age           0.444847\n",
       "driver        0.025597\n",
       "passenger     0.025116\n",
       "pedestrian    0.129880\n",
       "female        0.011688\n",
       "male          0.012966\n",
       "bicycle       0.101521\n",
       "bus           0.007733\n",
       "car           0.155882\n",
       "motorbike     0.048790\n",
       "other         0.005406\n",
       "pedestrian    0.022619\n",
       "taxi          0.007955"
      ]
     },
     "execution_count": 158,
     "metadata": {},
     "output_type": "execute_result"
    }
   ],
   "source": [
    "#showing variable importance\n",
    "feature_importances = pd.DataFrame(rf.feature_importances_, index = x_train.columns, columns=['importance'])\n",
    "feature_importances"
   ]
  },
  {
   "cell_type": "markdown",
   "metadata": {},
   "source": [
    "# Interpretation"
   ]
  },
  {
   "cell_type": "markdown",
   "metadata": {},
   "source": [
    "The Random Forest Classifier is performing relatively well (89% accuracy). Since a Random Forest basically acts like cross-validation, I did not perform cross-validation for this classification. To improve the classification, I removed several variable classes such as the pedestrian movement, the pedestrian location, and the year.\n",
    "\n",
    "As seen in the table above, the age of the person as well as whether he was the pedestrian or traveling in a car or bicycle mattered most. This is very intuitive as the older the person is, the more severe the casualty should be. Additionally, if one is the pedestrian and is hit by a car or bicycle, it will be much more severe (and also likely)."
   ]
  }
 ],
 "metadata": {
  "kernelspec": {
   "display_name": "Python 3",
   "language": "python",
   "name": "python3"
  },
  "language_info": {
   "codemirror_mode": {
    "name": "ipython",
    "version": 3
   },
   "file_extension": ".py",
   "mimetype": "text/x-python",
   "name": "python",
   "nbconvert_exporter": "python",
   "pygments_lexer": "ipython3",
   "version": "3.8.5"
  }
 },
 "nbformat": 4,
 "nbformat_minor": 2
}
