{
 "cells": [
  {
   "cell_type": "code",
   "execution_count": 208,
   "metadata": {},
   "outputs": [],
   "source": [
    "import pandas as pd\n",
    "from sklearn import linear_model\n",
    "from sklearn.metrics import mean_squared_error, r2_score, mean_absolute_error, confusion_matrix\n",
    "from sklearn.model_selection import train_test_split\n",
    "from sklearn.model_selection import cross_val_score"
   ]
  },
  {
   "cell_type": "code",
   "execution_count": 105,
   "metadata": {
    "tags": []
   },
   "outputs": [],
   "source": [
    "# all variables\n",
    "fb_train = pd.read_csv(\"./facebook_train.csv\")\n",
    "fb_train = pd.concat([fb_train, pd.get_dummies(fb_train[\"type\"]), pd.get_dummies(fb_train[\"category\"]), pd.get_dummies(fb_train[\"weekday\"]), pd.get_dummies(fb_train[\"month\"]), pd.get_dummies(fb_train[\"hour\"])], axis=1)\n",
    "fb_train = fb_train.drop([\"type\", \"category\", \"month\", \"weekday\", \"hour\"], axis=1)\n",
    "fb_train.columns = [\"followers\", \"paid\", \"comments\", \"likes\", \"shares\", \"Link\", \"Photo\", \"Status\", \"Video\", \"Category 1\", \"Category 2\", \"Category 3\", \"Mon\",\"Tue\",\"Wed\",\"Thu\",\"Fri\",\"Sat\",\"Sun\", \"Jan\",\"Feb\",\"Mar\",\"May\",\"Apr\",\"Jun\", \"Jul\", \"Aug\",\"Sep\",\"Oct\",\"Nov\", \"Dez\", \"1am\", \"2am\", \"3am\", \"4am\", \"5am\", \"6am\", \"7am\", \"8am\", \"9am\", \"12pm\", \"3pm\", \"4pm\", \"5pm\", \"6pm\", \"7pm\", \"8pm\", \"9pm\",\"10pm\", \"11pm\",\"12am\"]"
   ]
  },
  {
   "cell_type": "code",
   "execution_count": 36,
   "metadata": {},
   "outputs": [],
   "source": [
    "#no hours and above\n",
    "fb_train = pd.read_csv(\"./facebook_train.csv\")\n",
    "fb_train = pd.concat([fb_train, pd.get_dummies(fb_train[\"type\"]), pd.get_dummies(fb_train[\"category\"]), pd.get_dummies(fb_train[\"weekday\"]), pd.get_dummies(fb_train[\"month\"])], axis=1)\n",
    "fb_train = fb_train.drop([\"type\", \"category\", \"month\", \"weekday\", \"hour\"], axis=1)\n",
    "fb_train.columns = [\"followers\", \"paid\", \"comments\", \"likes\", \"shares\", \"Link\", \"Photo\", \"Status\", \"Video\", \"Category 1\", \"Category 2\", \"Category 3\", \"Mon\",\"Tue\",\"Wed\",\"Thu\",\"Fri\",\"Sat\",\"Sun\", \"Jan\",\"Feb\",\"Mar\",\"May\",\"Apr\",\"Jun\", \"Jul\", \"Aug\",\"Sep\",\"Oct\",\"Nov\", \"Dez\"]"
   ]
  },
  {
   "cell_type": "code",
   "execution_count": 41,
   "metadata": {},
   "outputs": [],
   "source": [
    "#no month and above\n",
    "fb_train = pd.read_csv(\"./facebook_train.csv\")\n",
    "fb_train = pd.concat([fb_train, pd.get_dummies(fb_train[\"type\"]), pd.get_dummies(fb_train[\"category\"]), pd.get_dummies(fb_train[\"weekday\"])], axis=1)\n",
    "fb_train = fb_train.drop([\"type\", \"category\", \"month\", \"weekday\", \"hour\"], axis=1)\n",
    "fb_train.columns = [\"followers\", \"paid\", \"comments\", \"likes\", \"shares\", \"Link\", \"Photo\", \"Status\", \"Video\", \"Category 1\", \"Category 2\", \"Category 3\", \"Mon\",\"Tue\",\"Wed\",\"Thu\",\"Fri\",\"Sat\",\"Sun\"]"
   ]
  },
  {
   "cell_type": "code",
   "execution_count": 185,
   "metadata": {},
   "outputs": [
    {
     "name": "stdout",
     "output_type": "stream",
     "text": [
      "     followers  paid  comments  likes  shares  Link  Photo  Status  Video  \\\n",
      "0       124050     1         3     77      16     0      1       0      0   \n",
      "1       132556     0        11    313      50     0      1       0      0   \n",
      "2        92786     1         2    145      39     0      1       0      0   \n",
      "3       135632     0         2    299      49     0      1       0      0   \n",
      "4       139540     1         7    229      21     1      0       0      0   \n",
      "..         ...   ...       ...    ...     ...   ...    ...     ...    ...   \n",
      "392     138114     0        12    498      87     0      0       1      0   \n",
      "393     127937     0         4     85      20     0      0       1      0   \n",
      "394     135656     0         7    397     143     0      0       0      1   \n",
      "395     124663     1         1     87      18     0      1       0      0   \n",
      "396      93096     1         6    296      32     0      1       0      0   \n",
      "\n",
      "     Category 1  Category 2  Category 3  \n",
      "0             0           0           1  \n",
      "1             0           1           0  \n",
      "2             0           1           0  \n",
      "3             1           0           0  \n",
      "4             1           0           0  \n",
      "..          ...         ...         ...  \n",
      "392           0           1           0  \n",
      "393           0           1           0  \n",
      "394           1           0           0  \n",
      "395           0           0           1  \n",
      "396           1           0           0  \n",
      "\n",
      "[397 rows x 12 columns]\n"
     ]
    }
   ],
   "source": [
    "#no day of the week and above\n",
    "fb_train = pd.read_csv(\"./facebook_train.csv\")\n",
    "fb_train = pd.concat([fb_train, pd.get_dummies(fb_train[\"type\"]), pd.get_dummies(fb_train[\"category\"])], axis=1)\n",
    "fb_train = fb_train.drop([\"type\", \"category\", \"month\", \"weekday\", \"hour\"], axis=1)\n",
    "fb_train.columns = [\"followers\", \"paid\", \"comments\", \"likes\", \"shares\", \"Link\", \"Photo\", \"Status\", \"Video\", \"Category 1\", \"Category 2\", \"Category 3\"]\n",
    "print(fb_train)"
   ]
  },
  {
   "cell_type": "code",
   "execution_count": 100,
   "metadata": {},
   "outputs": [],
   "source": [
    "#only paid\n",
    "fb_train = pd.read_csv(\"./facebook_train.csv\")\n",
    "fb_train = pd.concat([fb_train, pd.get_dummies(fb_train[\"type\"])], axis=1)\n",
    "fb_train = fb_train.drop([\"total_followers\", \"type\", \"category\", \"month\", \"weekday\", \"hour\",\"paid\"], axis=1)\n",
    "fb_train.columns = [\"comments\", \"likes\", \"shares\",\"Link\", \"Photo\", \"Status\", \"Video\"]"
   ]
  },
  {
   "cell_type": "code",
   "execution_count": 186,
   "metadata": {},
   "outputs": [
    {
     "data": {
      "text/plain": [
       "64       89\n",
       "55       18\n",
       "316     430\n",
       "102    2306\n",
       "261     122\n",
       "       ... \n",
       "323     618\n",
       "192      67\n",
       "117    1479\n",
       "47      421\n",
       "172     423\n",
       "Name: likes, Length: 317, dtype: int64"
      ]
     },
     "execution_count": 186,
     "metadata": {},
     "output_type": "execute_result"
    }
   ],
   "source": [
    "#splitting model\n",
    "fb_model = fb_train.drop([\"comments\", \"shares\"], axis=1)\n",
    "fb_target = fb_model.likes\n",
    "x_train, x_test, y_train, y_test = train_test_split(fb_model, fb_target, test_size=0.2, random_state=0)\n",
    "x_train = x_train.drop([\"likes\"], axis=1)\n",
    "y_train"
   ]
  },
  {
   "cell_type": "code",
   "execution_count": 187,
   "metadata": {},
   "outputs": [
    {
     "name": "stdout",
     "output_type": "stream",
     "text": [
      "[ 0.07946035  0.18919212 -0.60292412 -0.37491044  0.04876056 -0.80796904\n",
      " -0.24722036  0.1040883  -0.01501424 -0.10691361]\n"
     ]
    },
    {
     "data": {
      "text/plain": [
       "LinearRegression()"
      ]
     },
     "execution_count": 187,
     "metadata": {},
     "output_type": "execute_result"
    }
   ],
   "source": [
    "#running regression and cross validation\n",
    "reg = linear_model.LinearRegression()\n",
    "scores = cross_val_score(reg, x_train, y_train, cv=10)\n",
    "print(scores)\n",
    "reg.fit(x_train, y_train)"
   ]
  },
  {
   "cell_type": "code",
   "execution_count": 148,
   "metadata": {
    "tags": []
   },
   "outputs": [
    {
     "data": {
      "text/html": [
       "<div>\n",
       "<style scoped>\n",
       "    .dataframe tbody tr th:only-of-type {\n",
       "        vertical-align: middle;\n",
       "    }\n",
       "\n",
       "    .dataframe tbody tr th {\n",
       "        vertical-align: top;\n",
       "    }\n",
       "\n",
       "    .dataframe thead th {\n",
       "        text-align: right;\n",
       "    }\n",
       "</style>\n",
       "<table border=\"1\" class=\"dataframe\">\n",
       "  <thead>\n",
       "    <tr style=\"text-align: right;\">\n",
       "      <th></th>\n",
       "      <th>var</th>\n",
       "      <th>coef</th>\n",
       "    </tr>\n",
       "  </thead>\n",
       "  <tbody>\n",
       "    <tr>\n",
       "      <th>42</th>\n",
       "      <td>7pm</td>\n",
       "      <td>647.67</td>\n",
       "    </tr>\n",
       "    <tr>\n",
       "      <th>16</th>\n",
       "      <td>Jan</td>\n",
       "      <td>581.07</td>\n",
       "    </tr>\n",
       "    <tr>\n",
       "      <th>17</th>\n",
       "      <td>Feb</td>\n",
       "      <td>415.74</td>\n",
       "    </tr>\n",
       "    <tr>\n",
       "      <th>18</th>\n",
       "      <td>Mar</td>\n",
       "      <td>216.70</td>\n",
       "    </tr>\n",
       "    <tr>\n",
       "      <th>31</th>\n",
       "      <td>4am</td>\n",
       "      <td>209.01</td>\n",
       "    </tr>\n",
       "    <tr>\n",
       "      <th>34</th>\n",
       "      <td>7am</td>\n",
       "      <td>175.54</td>\n",
       "    </tr>\n",
       "    <tr>\n",
       "      <th>19</th>\n",
       "      <td>May</td>\n",
       "      <td>158.09</td>\n",
       "    </tr>\n",
       "    <tr>\n",
       "      <th>1</th>\n",
       "      <td>paid</td>\n",
       "      <td>102.86</td>\n",
       "    </tr>\n",
       "    <tr>\n",
       "      <th>15</th>\n",
       "      <td>Sun</td>\n",
       "      <td>98.36</td>\n",
       "    </tr>\n",
       "    <tr>\n",
       "      <th>14</th>\n",
       "      <td>Sat</td>\n",
       "      <td>63.47</td>\n",
       "    </tr>\n",
       "    <tr>\n",
       "      <th>7</th>\n",
       "      <td>Category 2</td>\n",
       "      <td>61.10</td>\n",
       "    </tr>\n",
       "    <tr>\n",
       "      <th>5</th>\n",
       "      <td>Video</td>\n",
       "      <td>46.79</td>\n",
       "    </tr>\n",
       "    <tr>\n",
       "      <th>3</th>\n",
       "      <td>Photo</td>\n",
       "      <td>44.56</td>\n",
       "    </tr>\n",
       "    <tr>\n",
       "      <th>20</th>\n",
       "      <td>Apr</td>\n",
       "      <td>35.91</td>\n",
       "    </tr>\n",
       "    <tr>\n",
       "      <th>47</th>\n",
       "      <td>12am</td>\n",
       "      <td>31.85</td>\n",
       "    </tr>\n",
       "    <tr>\n",
       "      <th>13</th>\n",
       "      <td>Fri</td>\n",
       "      <td>25.22</td>\n",
       "    </tr>\n",
       "    <tr>\n",
       "      <th>35</th>\n",
       "      <td>8am</td>\n",
       "      <td>15.30</td>\n",
       "    </tr>\n",
       "    <tr>\n",
       "      <th>9</th>\n",
       "      <td>Mon</td>\n",
       "      <td>13.31</td>\n",
       "    </tr>\n",
       "    <tr>\n",
       "      <th>8</th>\n",
       "      <td>Category 3</td>\n",
       "      <td>9.76</td>\n",
       "    </tr>\n",
       "    <tr>\n",
       "      <th>0</th>\n",
       "      <td>followers</td>\n",
       "      <td>0.02</td>\n",
       "    </tr>\n",
       "    <tr>\n",
       "      <th>33</th>\n",
       "      <td>6am</td>\n",
       "      <td>0.00</td>\n",
       "    </tr>\n",
       "    <tr>\n",
       "      <th>40</th>\n",
       "      <td>5pm</td>\n",
       "      <td>-0.23</td>\n",
       "    </tr>\n",
       "    <tr>\n",
       "      <th>29</th>\n",
       "      <td>2am</td>\n",
       "      <td>-15.44</td>\n",
       "    </tr>\n",
       "    <tr>\n",
       "      <th>41</th>\n",
       "      <td>6pm</td>\n",
       "      <td>-19.04</td>\n",
       "    </tr>\n",
       "    <tr>\n",
       "      <th>2</th>\n",
       "      <td>Link</td>\n",
       "      <td>-35.59</td>\n",
       "    </tr>\n",
       "    <tr>\n",
       "      <th>30</th>\n",
       "      <td>3am</td>\n",
       "      <td>-37.25</td>\n",
       "    </tr>\n",
       "    <tr>\n",
       "      <th>22</th>\n",
       "      <td>Jul</td>\n",
       "      <td>-38.59</td>\n",
       "    </tr>\n",
       "    <tr>\n",
       "      <th>32</th>\n",
       "      <td>5am</td>\n",
       "      <td>-44.15</td>\n",
       "    </tr>\n",
       "    <tr>\n",
       "      <th>43</th>\n",
       "      <td>8pm</td>\n",
       "      <td>-47.63</td>\n",
       "    </tr>\n",
       "    <tr>\n",
       "      <th>39</th>\n",
       "      <td>4pm</td>\n",
       "      <td>-50.55</td>\n",
       "    </tr>\n",
       "    <tr>\n",
       "      <th>4</th>\n",
       "      <td>Status</td>\n",
       "      <td>-55.75</td>\n",
       "    </tr>\n",
       "    <tr>\n",
       "      <th>11</th>\n",
       "      <td>Wed</td>\n",
       "      <td>-58.97</td>\n",
       "    </tr>\n",
       "    <tr>\n",
       "      <th>10</th>\n",
       "      <td>Tue</td>\n",
       "      <td>-59.10</td>\n",
       "    </tr>\n",
       "    <tr>\n",
       "      <th>28</th>\n",
       "      <td>1am</td>\n",
       "      <td>-62.79</td>\n",
       "    </tr>\n",
       "    <tr>\n",
       "      <th>6</th>\n",
       "      <td>Category 1</td>\n",
       "      <td>-70.85</td>\n",
       "    </tr>\n",
       "    <tr>\n",
       "      <th>37</th>\n",
       "      <td>12pm</td>\n",
       "      <td>-72.18</td>\n",
       "    </tr>\n",
       "    <tr>\n",
       "      <th>46</th>\n",
       "      <td>11pm</td>\n",
       "      <td>-73.84</td>\n",
       "    </tr>\n",
       "    <tr>\n",
       "      <th>12</th>\n",
       "      <td>Thu</td>\n",
       "      <td>-82.28</td>\n",
       "    </tr>\n",
       "    <tr>\n",
       "      <th>36</th>\n",
       "      <td>9am</td>\n",
       "      <td>-124.26</td>\n",
       "    </tr>\n",
       "    <tr>\n",
       "      <th>44</th>\n",
       "      <td>9pm</td>\n",
       "      <td>-126.36</td>\n",
       "    </tr>\n",
       "    <tr>\n",
       "      <th>25</th>\n",
       "      <td>Oct</td>\n",
       "      <td>-146.35</td>\n",
       "    </tr>\n",
       "    <tr>\n",
       "      <th>45</th>\n",
       "      <td>10pm</td>\n",
       "      <td>-171.78</td>\n",
       "    </tr>\n",
       "    <tr>\n",
       "      <th>21</th>\n",
       "      <td>Jun</td>\n",
       "      <td>-182.77</td>\n",
       "    </tr>\n",
       "    <tr>\n",
       "      <th>24</th>\n",
       "      <td>Sep</td>\n",
       "      <td>-214.09</td>\n",
       "    </tr>\n",
       "    <tr>\n",
       "      <th>23</th>\n",
       "      <td>Aug</td>\n",
       "      <td>-223.37</td>\n",
       "    </tr>\n",
       "    <tr>\n",
       "      <th>38</th>\n",
       "      <td>3pm</td>\n",
       "      <td>-233.88</td>\n",
       "    </tr>\n",
       "    <tr>\n",
       "      <th>27</th>\n",
       "      <td>Dez</td>\n",
       "      <td>-290.02</td>\n",
       "    </tr>\n",
       "    <tr>\n",
       "      <th>26</th>\n",
       "      <td>Nov</td>\n",
       "      <td>-312.32</td>\n",
       "    </tr>\n",
       "  </tbody>\n",
       "</table>\n",
       "</div>"
      ],
      "text/plain": [
       "           var    coef\n",
       "42         7pm  647.67\n",
       "16         Jan  581.07\n",
       "17         Feb  415.74\n",
       "18         Mar  216.70\n",
       "31         4am  209.01\n",
       "34         7am  175.54\n",
       "19         May  158.09\n",
       "1         paid  102.86\n",
       "15         Sun   98.36\n",
       "14         Sat   63.47\n",
       "7   Category 2   61.10\n",
       "5        Video   46.79\n",
       "3        Photo   44.56\n",
       "20         Apr   35.91\n",
       "47        12am   31.85\n",
       "13         Fri   25.22\n",
       "35         8am   15.30\n",
       "9          Mon   13.31\n",
       "8   Category 3    9.76\n",
       "0    followers    0.02\n",
       "33         6am    0.00\n",
       "40         5pm   -0.23\n",
       "29         2am  -15.44\n",
       "41         6pm  -19.04\n",
       "2         Link  -35.59\n",
       "30         3am  -37.25\n",
       "22         Jul  -38.59\n",
       "32         5am  -44.15\n",
       "43         8pm  -47.63\n",
       "39         4pm  -50.55\n",
       "4       Status  -55.75\n",
       "11         Wed  -58.97\n",
       "10         Tue  -59.10\n",
       "28         1am  -62.79\n",
       "6   Category 1  -70.85\n",
       "37        12pm  -72.18\n",
       "46        11pm  -73.84\n",
       "12         Thu  -82.28\n",
       "36         9am -124.26\n",
       "44         9pm -126.36\n",
       "25         Oct -146.35\n",
       "45        10pm -171.78\n",
       "21         Jun -182.77\n",
       "24         Sep -214.09\n",
       "23         Aug -223.37\n",
       "38         3pm -233.88\n",
       "27         Dez -290.02\n",
       "26         Nov -312.32"
      ]
     },
     "execution_count": 148,
     "metadata": {},
     "output_type": "execute_result"
    }
   ],
   "source": [
    "#displaying coefficients for linear model\n",
    "results_df = pd.DataFrame({\"var\": fb_model.drop([\"likes\"], axis=1).columns, \"coef\": reg.coef_})\n",
    "\n",
    "results_df.round(2).sort_values('coef',ascending=False)"
   ]
  },
  {
   "cell_type": "code",
   "execution_count": 149,
   "metadata": {
    "tags": []
   },
   "outputs": [
    {
     "name": "stdout",
     "output_type": "stream",
     "text": [
      "131740.65351615925\n",
      "212.83526390027322\n",
      "-0.24350268549993337\n"
     ]
    }
   ],
   "source": [
    "#showing results\n",
    "print(mean_squared_error(y_test, reg.predict(x_test.drop([\"likes\"], axis=1))))\n",
    "print(mean_absolute_error(y_test, reg.predict(x_test.drop([\"likes\"], axis=1))))\n",
    "print(r2_score(y_test, reg.predict(x_test.drop([\"likes\"], axis=1))))"
   ]
  },
  {
   "cell_type": "code",
   "execution_count": 190,
   "metadata": {},
   "outputs": [
    {
     "ename": "ValueError",
     "evalue": "Length mismatch: Expected axis has 11 elements, new values have 12 elements",
     "output_type": "error",
     "traceback": [
      "\u001b[0;31m---------------------------------------------------------------------------\u001b[0m",
      "\u001b[0;31mValueError\u001b[0m                                Traceback (most recent call last)",
      "\u001b[0;32m<ipython-input-190-c0d8be98af9f>\u001b[0m in \u001b[0;36m<module>\u001b[0;34m\u001b[0m\n\u001b[1;32m      3\u001b[0m \u001b[0mfb_test\u001b[0m \u001b[0;34m=\u001b[0m \u001b[0mpd\u001b[0m\u001b[0;34m.\u001b[0m\u001b[0mconcat\u001b[0m\u001b[0;34m(\u001b[0m\u001b[0;34m[\u001b[0m\u001b[0mfb_test\u001b[0m\u001b[0;34m,\u001b[0m \u001b[0mpd\u001b[0m\u001b[0;34m.\u001b[0m\u001b[0mget_dummies\u001b[0m\u001b[0;34m(\u001b[0m\u001b[0mfb_test\u001b[0m\u001b[0;34m[\u001b[0m\u001b[0;34m\"type\"\u001b[0m\u001b[0;34m]\u001b[0m\u001b[0;34m)\u001b[0m\u001b[0;34m,\u001b[0m \u001b[0mpd\u001b[0m\u001b[0;34m.\u001b[0m\u001b[0mget_dummies\u001b[0m\u001b[0;34m(\u001b[0m\u001b[0mfb_test\u001b[0m\u001b[0;34m[\u001b[0m\u001b[0;34m\"category\"\u001b[0m\u001b[0;34m]\u001b[0m\u001b[0;34m)\u001b[0m\u001b[0;34m]\u001b[0m\u001b[0;34m,\u001b[0m \u001b[0maxis\u001b[0m\u001b[0;34m=\u001b[0m\u001b[0;36m1\u001b[0m\u001b[0;34m)\u001b[0m\u001b[0;34m\u001b[0m\u001b[0;34m\u001b[0m\u001b[0m\n\u001b[1;32m      4\u001b[0m \u001b[0mfb_test\u001b[0m \u001b[0;34m=\u001b[0m \u001b[0mfb_test\u001b[0m\u001b[0;34m.\u001b[0m\u001b[0mdrop\u001b[0m\u001b[0;34m(\u001b[0m\u001b[0;34m[\u001b[0m\u001b[0;34m\"type\"\u001b[0m\u001b[0;34m,\u001b[0m \u001b[0;34m\"category\"\u001b[0m\u001b[0;34m,\u001b[0m \u001b[0;34m\"month\"\u001b[0m\u001b[0;34m,\u001b[0m \u001b[0;34m\"weekday\"\u001b[0m\u001b[0;34m,\u001b[0m \u001b[0;34m\"hour\"\u001b[0m\u001b[0;34m]\u001b[0m\u001b[0;34m,\u001b[0m \u001b[0maxis\u001b[0m\u001b[0;34m=\u001b[0m\u001b[0;36m1\u001b[0m\u001b[0;34m)\u001b[0m\u001b[0;34m\u001b[0m\u001b[0;34m\u001b[0m\u001b[0m\n\u001b[0;32m----> 5\u001b[0;31m \u001b[0mfb_test\u001b[0m\u001b[0;34m.\u001b[0m\u001b[0mcolumns\u001b[0m \u001b[0;34m=\u001b[0m \u001b[0;34m[\u001b[0m\u001b[0;34m\"followers\"\u001b[0m\u001b[0;34m,\u001b[0m \u001b[0;34m\"paid\"\u001b[0m\u001b[0;34m,\u001b[0m \u001b[0;34m\"comments\"\u001b[0m\u001b[0;34m,\u001b[0m \u001b[0;34m\"likes\"\u001b[0m\u001b[0;34m,\u001b[0m \u001b[0;34m\"shares\"\u001b[0m\u001b[0;34m,\u001b[0m \u001b[0;34m\"Link\"\u001b[0m\u001b[0;34m,\u001b[0m \u001b[0;34m\"Photo\"\u001b[0m\u001b[0;34m,\u001b[0m \u001b[0;34m\"Status\"\u001b[0m\u001b[0;34m,\u001b[0m \u001b[0;34m\"Video\"\u001b[0m\u001b[0;34m,\u001b[0m \u001b[0;34m\"Category 1\"\u001b[0m\u001b[0;34m,\u001b[0m \u001b[0;34m\"Category 2\"\u001b[0m\u001b[0;34m,\u001b[0m \u001b[0;34m\"Category 3\"\u001b[0m\u001b[0;34m]\u001b[0m\u001b[0;34m\u001b[0m\u001b[0;34m\u001b[0m\u001b[0m\n\u001b[0m\u001b[1;32m      6\u001b[0m \u001b[0mprint\u001b[0m\u001b[0;34m(\u001b[0m\u001b[0mfb_test\u001b[0m\u001b[0;34m)\u001b[0m\u001b[0;34m\u001b[0m\u001b[0;34m\u001b[0m\u001b[0m\n\u001b[1;32m      7\u001b[0m \u001b[0mr2_score\u001b[0m\u001b[0;34m(\u001b[0m\u001b[0mfb_test\u001b[0m\u001b[0;34m[\u001b[0m\u001b[0;34m\"likes\"\u001b[0m\u001b[0;34m]\u001b[0m\u001b[0;34m,\u001b[0m \u001b[0mreg\u001b[0m\u001b[0;34m.\u001b[0m\u001b[0mpredict\u001b[0m\u001b[0;34m(\u001b[0m\u001b[0mfb_test\u001b[0m\u001b[0;34m.\u001b[0m\u001b[0mdrop\u001b[0m\u001b[0;34m(\u001b[0m\u001b[0;34m[\u001b[0m\u001b[0;34m\"likes\"\u001b[0m\u001b[0;34m,\u001b[0m \u001b[0;34m\"comments\"\u001b[0m\u001b[0;34m,\u001b[0m \u001b[0;34m\"shares\"\u001b[0m\u001b[0;34m]\u001b[0m\u001b[0;34m,\u001b[0m \u001b[0maxis\u001b[0m\u001b[0;34m=\u001b[0m\u001b[0;36m1\u001b[0m\u001b[0;34m)\u001b[0m\u001b[0;34m)\u001b[0m\u001b[0;34m)\u001b[0m\u001b[0;34m\u001b[0m\u001b[0;34m\u001b[0m\u001b[0m\n",
      "\u001b[0;32m/usr/local/lib/python3.8/site-packages/pandas/core/generic.py\u001b[0m in \u001b[0;36m__setattr__\u001b[0;34m(self, name, value)\u001b[0m\n\u001b[1;32m   5141\u001b[0m         \u001b[0;32mtry\u001b[0m\u001b[0;34m:\u001b[0m\u001b[0;34m\u001b[0m\u001b[0;34m\u001b[0m\u001b[0m\n\u001b[1;32m   5142\u001b[0m             \u001b[0mobject\u001b[0m\u001b[0;34m.\u001b[0m\u001b[0m__getattribute__\u001b[0m\u001b[0;34m(\u001b[0m\u001b[0mself\u001b[0m\u001b[0;34m,\u001b[0m \u001b[0mname\u001b[0m\u001b[0;34m)\u001b[0m\u001b[0;34m\u001b[0m\u001b[0;34m\u001b[0m\u001b[0m\n\u001b[0;32m-> 5143\u001b[0;31m             \u001b[0;32mreturn\u001b[0m \u001b[0mobject\u001b[0m\u001b[0;34m.\u001b[0m\u001b[0m__setattr__\u001b[0m\u001b[0;34m(\u001b[0m\u001b[0mself\u001b[0m\u001b[0;34m,\u001b[0m \u001b[0mname\u001b[0m\u001b[0;34m,\u001b[0m \u001b[0mvalue\u001b[0m\u001b[0;34m)\u001b[0m\u001b[0;34m\u001b[0m\u001b[0;34m\u001b[0m\u001b[0m\n\u001b[0m\u001b[1;32m   5144\u001b[0m         \u001b[0;32mexcept\u001b[0m \u001b[0mAttributeError\u001b[0m\u001b[0;34m:\u001b[0m\u001b[0;34m\u001b[0m\u001b[0;34m\u001b[0m\u001b[0m\n\u001b[1;32m   5145\u001b[0m             \u001b[0;32mpass\u001b[0m\u001b[0;34m\u001b[0m\u001b[0;34m\u001b[0m\u001b[0m\n",
      "\u001b[0;32mpandas/_libs/properties.pyx\u001b[0m in \u001b[0;36mpandas._libs.properties.AxisProperty.__set__\u001b[0;34m()\u001b[0m\n",
      "\u001b[0;32m/usr/local/lib/python3.8/site-packages/pandas/core/generic.py\u001b[0m in \u001b[0;36m_set_axis\u001b[0;34m(self, axis, labels)\u001b[0m\n\u001b[1;32m    562\u001b[0m     \u001b[0;32mdef\u001b[0m \u001b[0m_set_axis\u001b[0m\u001b[0;34m(\u001b[0m\u001b[0mself\u001b[0m\u001b[0;34m,\u001b[0m \u001b[0maxis\u001b[0m\u001b[0;34m:\u001b[0m \u001b[0mint\u001b[0m\u001b[0;34m,\u001b[0m \u001b[0mlabels\u001b[0m\u001b[0;34m:\u001b[0m \u001b[0mIndex\u001b[0m\u001b[0;34m)\u001b[0m \u001b[0;34m->\u001b[0m \u001b[0;32mNone\u001b[0m\u001b[0;34m:\u001b[0m\u001b[0;34m\u001b[0m\u001b[0;34m\u001b[0m\u001b[0m\n\u001b[1;32m    563\u001b[0m         \u001b[0mlabels\u001b[0m \u001b[0;34m=\u001b[0m \u001b[0mensure_index\u001b[0m\u001b[0;34m(\u001b[0m\u001b[0mlabels\u001b[0m\u001b[0;34m)\u001b[0m\u001b[0;34m\u001b[0m\u001b[0;34m\u001b[0m\u001b[0m\n\u001b[0;32m--> 564\u001b[0;31m         \u001b[0mself\u001b[0m\u001b[0;34m.\u001b[0m\u001b[0m_mgr\u001b[0m\u001b[0;34m.\u001b[0m\u001b[0mset_axis\u001b[0m\u001b[0;34m(\u001b[0m\u001b[0maxis\u001b[0m\u001b[0;34m,\u001b[0m \u001b[0mlabels\u001b[0m\u001b[0;34m)\u001b[0m\u001b[0;34m\u001b[0m\u001b[0;34m\u001b[0m\u001b[0m\n\u001b[0m\u001b[1;32m    565\u001b[0m         \u001b[0mself\u001b[0m\u001b[0;34m.\u001b[0m\u001b[0m_clear_item_cache\u001b[0m\u001b[0;34m(\u001b[0m\u001b[0;34m)\u001b[0m\u001b[0;34m\u001b[0m\u001b[0;34m\u001b[0m\u001b[0m\n\u001b[1;32m    566\u001b[0m \u001b[0;34m\u001b[0m\u001b[0m\n",
      "\u001b[0;32m/usr/local/lib/python3.8/site-packages/pandas/core/internals/managers.py\u001b[0m in \u001b[0;36mset_axis\u001b[0;34m(self, axis, new_labels)\u001b[0m\n\u001b[1;32m    224\u001b[0m \u001b[0;34m\u001b[0m\u001b[0m\n\u001b[1;32m    225\u001b[0m         \u001b[0;32mif\u001b[0m \u001b[0mnew_len\u001b[0m \u001b[0;34m!=\u001b[0m \u001b[0mold_len\u001b[0m\u001b[0;34m:\u001b[0m\u001b[0;34m\u001b[0m\u001b[0;34m\u001b[0m\u001b[0m\n\u001b[0;32m--> 226\u001b[0;31m             raise ValueError(\n\u001b[0m\u001b[1;32m    227\u001b[0m                 \u001b[0;34mf\"Length mismatch: Expected axis has {old_len} elements, new \"\u001b[0m\u001b[0;34m\u001b[0m\u001b[0;34m\u001b[0m\u001b[0m\n\u001b[1;32m    228\u001b[0m                 \u001b[0;34mf\"values have {new_len} elements\"\u001b[0m\u001b[0;34m\u001b[0m\u001b[0;34m\u001b[0m\u001b[0m\n",
      "\u001b[0;31mValueError\u001b[0m: Length mismatch: Expected axis has 11 elements, new values have 12 elements"
     ]
    }
   ],
   "source": [
    "fb_test = pd.read_csv('./facebook_test.csv')\n",
    "# all variables\n",
    "fb_test = pd.concat([fb_test, pd.get_dummies(fb_test[\"type\"]), pd.get_dummies(fb_test[\"category\"])], axis=1)\n",
    "fb_test = fb_test.drop([\"type\", \"category\", \"month\", \"weekday\", \"hour\"], axis=1)\n",
    "fb_test.columns = [\"followers\", \"paid\", \"comments\", \"likes\", \"shares\", \"Link\", \"Photo\", \"Status\", \"Video\", \"Category 1\", \"Category 2\", \"Category 3\"]\n",
    "print(fb_test)\n",
    "r2_score(fb_test[\"likes\"], reg.predict(fb_test.drop([\"likes\", \"comments\", \"shares\"], axis=1)))"
   ]
  },
  {
   "cell_type": "markdown",
   "metadata": {},
   "source": [
    "# Interpretation"
   ]
  },
  {
   "cell_type": "markdown",
   "metadata": {},
   "source": [
    "The linear model is performing very poorly as suggested by the cross-validation test and the negative scores – a negative score indicates that simply taking the mean would perform better than the model itself. This is very likely since there shouldn't be a linear relationship between the number of likes for a given post and all the other variables. Moreover, some of the variables are not complete (such as time of the day).\n",
    "\n",
    "To check if this occurs due to model complexity I ran the regression with multiple number of reduced parameters. The more parameters I withhold, the better the prediction. However, this assumes a linear relationship which I am then just optimizing for. Instead it would have been better to find a non-polynomial or n-degree polynomial model that better represents the underlying relationship and bias.\n",
    "\n",
    "When running the regression with all parameters, the following seems to influence the number of likes the most:\n",
    "\n",
    "- Either early morning or evening (but not too late)\n",
    "- Beginning of the year\n",
    "- End of the week\n",
    "- Paid\n",
    "- Category 2\n",
    "- Video or Photo\n",
    "\n",
    "The opposite of that seems to reduce likes the most (aka late in the evening, mid to end of the year)."
   ]
  },
  {
   "cell_type": "code",
   "execution_count": 115,
   "metadata": {},
   "outputs": [],
   "source": [
    "import numpy as np\n",
    "from sklearn.ensemble import RandomForestClassifier "
   ]
  },
  {
   "cell_type": "code",
   "execution_count": 164,
   "metadata": {
    "tags": []
   },
   "outputs": [
    {
     "data": {
      "text/plain": [
       "count     214126\n",
       "unique         2\n",
       "top        False\n",
       "freq      191159\n",
       "Name: severe, dtype: object"
      ]
     },
     "execution_count": 164,
     "metadata": {},
     "output_type": "execute_result"
    }
   ],
   "source": [
    "#loading and inspecting data\n",
    "casual_data = pd.read_csv(\"./casualty_train.csv\")\n",
    "casual_data = casual_data[(casual_data['age'] != 'Unknown')]\n",
    "casual_data = casual_data[(casual_data['pedestrian_location'] != 'Unknown')]\n",
    "casual_data[\"severe\"].describe()\n",
    "#print(casual_data.pedestrian_location.unique())\n",
    "#print(casual_data.pedestrian_movement.unique())"
   ]
  },
  {
   "cell_type": "code",
   "execution_count": 152,
   "metadata": {},
   "outputs": [],
   "source": [
    "#all variables\n",
    "casual_data_dummy = pd.concat([casual_data, pd.get_dummies(casual_data[\"casualty_class\"]), pd.get_dummies(casual_data[\"gender\"]), pd.get_dummies(casual_data[\"travel\"]), pd.get_dummies(casual_data[\"pedestrian_location\"]), pd.get_dummies(casual_data[\"pedestrian_movement\"]), pd.get_dummies(casual_data[\"year\"])], axis=1).drop([\"casualty_class\", \"gender\", \"pedestrian_location\", \"pedestrian_movement\", \"travel\",\"year\"],axis=1)"
   ]
  },
  {
   "cell_type": "code",
   "execution_count": 153,
   "metadata": {},
   "outputs": [],
   "source": [
    "#no pedestrian movement\n",
    "casual_data_dummy = pd.concat([casual_data, pd.get_dummies(casual_data[\"casualty_class\"]), pd.get_dummies(casual_data[\"gender\"]), pd.get_dummies(casual_data[\"travel\"]), pd.get_dummies(casual_data[\"pedestrian_location\"]), pd.get_dummies(casual_data[\"year\"])], axis=1).drop([\"casualty_class\", \"gender\", \"pedestrian_location\", \"pedestrian_movement\", \"travel\",\"year\"],axis=1)"
   ]
  },
  {
   "cell_type": "code",
   "execution_count": 154,
   "metadata": {},
   "outputs": [],
   "source": [
    "#no pedestrian location and above\n",
    "casual_data_dummy = pd.concat([casual_data, pd.get_dummies(casual_data[\"casualty_class\"]), pd.get_dummies(casual_data[\"gender\"]), pd.get_dummies(casual_data[\"travel\"]), pd.get_dummies(casual_data[\"year\"])], axis=1).drop([\"casualty_class\", \"gender\", \"pedestrian_location\", \"pedestrian_movement\", \"travel\",\"year\"],axis=1)"
   ]
  },
  {
   "cell_type": "code",
   "execution_count": 155,
   "metadata": {},
   "outputs": [],
   "source": [
    "#no year and above\n",
    "casual_data_dummy = pd.concat([casual_data, pd.get_dummies(casual_data[\"casualty_class\"]), pd.get_dummies(casual_data[\"gender\"]), pd.get_dummies(casual_data[\"travel\"])], axis=1).drop([\"casualty_class\", \"gender\", \"pedestrian_location\", \"pedestrian_movement\", \"travel\",\"year\"],axis=1)"
   ]
  },
  {
   "cell_type": "code",
   "execution_count": 156,
   "metadata": {},
   "outputs": [
    {
     "data": {
      "text/plain": [
       "Index(['age', 'driver', 'passenger', 'pedestrian', 'female', 'male', 'bicycle',\n",
       "       'bus', 'car', 'motorbike', 'other', 'pedestrian', 'taxi'],\n",
       "      dtype='object')"
      ]
     },
     "execution_count": 156,
     "metadata": {},
     "output_type": "execute_result"
    }
   ],
   "source": [
    "#data splitting\n",
    "x_train, x_test, y_train, y_test = train_test_split(casual_data_dummy.drop([\"severe\"], axis=1), casual_data_dummy.severe, test_size=0.2, random_state=0)\n",
    "x_train.columns"
   ]
  },
  {
   "cell_type": "code",
   "execution_count": 160,
   "metadata": {},
   "outputs": [
    {
     "data": {
      "text/plain": [
       "array([False, False, False, ..., False, False, False])"
      ]
     },
     "execution_count": 160,
     "metadata": {},
     "output_type": "execute_result"
    }
   ],
   "source": [
    "#running classification\n",
    "rf = RandomForestClassifier()\n",
    "rf.fit(x_train, y_train)\n",
    "rf.predict(x_test)\n",
    "#print(rf.score(x_test, y_test))"
   ]
  },
  {
   "cell_type": "code",
   "execution_count": 158,
   "metadata": {},
   "outputs": [
    {
     "data": {
      "text/html": [
       "<div>\n",
       "<style scoped>\n",
       "    .dataframe tbody tr th:only-of-type {\n",
       "        vertical-align: middle;\n",
       "    }\n",
       "\n",
       "    .dataframe tbody tr th {\n",
       "        vertical-align: top;\n",
       "    }\n",
       "\n",
       "    .dataframe thead th {\n",
       "        text-align: right;\n",
       "    }\n",
       "</style>\n",
       "<table border=\"1\" class=\"dataframe\">\n",
       "  <thead>\n",
       "    <tr style=\"text-align: right;\">\n",
       "      <th></th>\n",
       "      <th>importance</th>\n",
       "    </tr>\n",
       "  </thead>\n",
       "  <tbody>\n",
       "    <tr>\n",
       "      <th>age</th>\n",
       "      <td>0.444847</td>\n",
       "    </tr>\n",
       "    <tr>\n",
       "      <th>driver</th>\n",
       "      <td>0.025597</td>\n",
       "    </tr>\n",
       "    <tr>\n",
       "      <th>passenger</th>\n",
       "      <td>0.025116</td>\n",
       "    </tr>\n",
       "    <tr>\n",
       "      <th>pedestrian</th>\n",
       "      <td>0.129880</td>\n",
       "    </tr>\n",
       "    <tr>\n",
       "      <th>female</th>\n",
       "      <td>0.011688</td>\n",
       "    </tr>\n",
       "    <tr>\n",
       "      <th>male</th>\n",
       "      <td>0.012966</td>\n",
       "    </tr>\n",
       "    <tr>\n",
       "      <th>bicycle</th>\n",
       "      <td>0.101521</td>\n",
       "    </tr>\n",
       "    <tr>\n",
       "      <th>bus</th>\n",
       "      <td>0.007733</td>\n",
       "    </tr>\n",
       "    <tr>\n",
       "      <th>car</th>\n",
       "      <td>0.155882</td>\n",
       "    </tr>\n",
       "    <tr>\n",
       "      <th>motorbike</th>\n",
       "      <td>0.048790</td>\n",
       "    </tr>\n",
       "    <tr>\n",
       "      <th>other</th>\n",
       "      <td>0.005406</td>\n",
       "    </tr>\n",
       "    <tr>\n",
       "      <th>pedestrian</th>\n",
       "      <td>0.022619</td>\n",
       "    </tr>\n",
       "    <tr>\n",
       "      <th>taxi</th>\n",
       "      <td>0.007955</td>\n",
       "    </tr>\n",
       "  </tbody>\n",
       "</table>\n",
       "</div>"
      ],
      "text/plain": [
       "            importance\n",
       "age           0.444847\n",
       "driver        0.025597\n",
       "passenger     0.025116\n",
       "pedestrian    0.129880\n",
       "female        0.011688\n",
       "male          0.012966\n",
       "bicycle       0.101521\n",
       "bus           0.007733\n",
       "car           0.155882\n",
       "motorbike     0.048790\n",
       "other         0.005406\n",
       "pedestrian    0.022619\n",
       "taxi          0.007955"
      ]
     },
     "execution_count": 158,
     "metadata": {},
     "output_type": "execute_result"
    }
   ],
   "source": [
    "#showing variable importance\n",
    "feature_importances = pd.DataFrame(rf.feature_importances_, index = x_train.columns, columns=['importance'])\n",
    "feature_importances"
   ]
  },
  {
   "cell_type": "code",
   "execution_count": 207,
   "metadata": {},
   "outputs": [
    {
     "name": "stdout",
     "output_type": "stream",
     "text": [
      "count     58208\n",
      "unique        2\n",
      "top       False\n",
      "freq      51935\n",
      "Name: severe, dtype: object\n",
      "0.8915072371975187\n"
     ]
    }
   ],
   "source": [
    "c_test = pd.read_csv('./casualty_test.csv')\n",
    "print(c_test.severe.describe())\n",
    "c_test = c_test[(c_test['age'] != 'Unknown')]\n",
    "c_test = c_test[(c_test['pedestrian_location'] != 'Unknown')]\n",
    "c_test_dummy = pd.concat([c_test, pd.get_dummies(c_test[\"casualty_class\"]), pd.get_dummies(c_test[\"gender\"]), pd.get_dummies(c_test[\"travel\"])], axis=1).drop([\"casualty_class\", \"gender\", \"pedestrian_location\", \"pedestrian_movement\", \"travel\",\"year\"],axis=1)\n",
    "print(rf.score(c_test_dummy.drop([\"severe\"], axis=1), c_test_dummy[\"severe\"]))"
   ]
  },
  {
   "cell_type": "code",
   "execution_count": 210,
   "metadata": {},
   "outputs": [
    {
     "data": {
      "text/plain": [
       "array([[47849,    42],\n",
       "       [ 5782,     8]])"
      ]
     },
     "execution_count": 210,
     "metadata": {},
     "output_type": "execute_result"
    }
   ],
   "source": [
    "conf_matrix = confusion_matrix(c_test_dummy[\"severe\"], rf.predict(c_test_dummy.drop([\"severe\"], axis=1)))\n",
    "conf_matrix"
   ]
  },
  {
   "cell_type": "markdown",
   "metadata": {},
   "source": [
    "# Interpretation"
   ]
  },
  {
   "cell_type": "markdown",
   "metadata": {},
   "source": [
    "The Random Forest Classifier is performing relatively well (89% accuracy). Since a Random Forest basically acts like cross-validation, I did not perform cross-validation for this classification. To improve the classification, I removed several variable classes such as the pedestrian movement, the pedestrian location, and the year.\n",
    "\n",
    "As seen in the table above, the age of the person as well as whether he was the pedestrian or traveling in a car or bicycle mattered most. This is very intuitive as the older the person is, the more severe the casualty should be. Additionally, if one is the pedestrian and is hit by a car or bicycle, it will be much more severe (and also likely)."
   ]
  },
  {
   "cell_type": "code",
   "execution_count": null,
   "metadata": {},
   "outputs": [],
   "source": []
  }
 ],
 "metadata": {
  "kernelspec": {
   "display_name": "Python 3",
   "language": "python",
   "name": "python3"
  },
  "language_info": {
   "codemirror_mode": {
    "name": "ipython",
    "version": 3
   },
   "file_extension": ".py",
   "mimetype": "text/x-python",
   "name": "python",
   "nbconvert_exporter": "python",
   "pygments_lexer": "ipython3",
   "version": "3.8.3"
  }
 },
 "nbformat": 4,
 "nbformat_minor": 2
}
