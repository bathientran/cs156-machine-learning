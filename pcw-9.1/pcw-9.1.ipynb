{
 "cells": [
  {
   "cell_type": "markdown",
   "metadata": {},
   "source": [
    "# 1. Parameterize a Kernel"
   ]
  },
  {
   "cell_type": "markdown",
   "metadata": {},
   "source": [
    "##### Find the appropriate parameterizations (ϕ) for the following kernels:"
   ]
  },
  {
   "cell_type": "markdown",
   "metadata": {},
   "source": [
    "$$k(x, y) = x^{\\top}y + c = \\phi(x)^{\\top}\\phi(y)$$"
   ]
  },
  {
   "cell_type": "markdown",
   "metadata": {},
   "source": [
    "This is the linear kernel, thus, the parameterization is the following:"
   ]
  },
  {
   "cell_type": "markdown",
   "metadata": {},
   "source": [
    "$$x^{\\top}y + c$$\n",
    "$$\\Rightarrow \\langle x,y \\rangle+c$$\n",
    "$$\\Rightarrow x_1y_1+x_2y_2+...+x_ny_n+c$$"
   ]
  },
  {
   "cell_type": "markdown",
   "metadata": {},
   "source": [
    "$$k(x,y) = (x^\\top y)^2 = \\phi(x)^\\top \\phi(y)$$"
   ]
  },
  {
   "cell_type": "markdown",
   "metadata": {},
   "source": [
    "This is the quadratic kernel, thus, the parameterization is the following:"
   ]
  },
  {
   "cell_type": "markdown",
   "metadata": {},
   "source": [
    "$$(x^{\\top}y)^2$$\n",
    "$$\\Rightarrow \\langle x,y \\rangle^2$$\n",
    "$$\\Rightarrow (x_1y_1+x_2y_2+...+x_ny_n)^2$$"
   ]
  },
  {
   "cell_type": "markdown",
   "metadata": {},
   "source": [
    "###### Search online and find a kernel representation for the radial basis function. Come to class ready to explain how this representation was derived, and be able to point out practical difficulties with using this representation directly:"
   ]
  },
  {
   "cell_type": "markdown",
   "metadata": {},
   "source": [
    "The kernel representation of the RBF is the following:"
   ]
  },
  {
   "cell_type": "markdown",
   "metadata": {},
   "source": [
    "$$K(\\mathbf {x} ,\\mathbf {x'} )=\\exp \\left(-{\\frac {\\|\\mathbf {x} -\\mathbf {x'} \\|^{2}}{2\\sigma ^{2}}}\\right)$$"
   ]
  },
  {
   "cell_type": "markdown",
   "metadata": {},
   "source": [
    "The representation in the pre-class work replace $1/2\\sigma$ by the constant c which omits the width hyperparameter of the radial basis function. Thus, when using the simplified representation, it might fail to incorporate the width hyperparameter to perform the kernalization which results in an non-optimized solution. One would have to tune the hyperparemeter using techniques like CV."
   ]
  },
  {
   "cell_type": "markdown",
   "metadata": {},
   "source": [
    "# 2. Kernel Efficiency"
   ]
  },
  {
   "cell_type": "markdown",
   "metadata": {},
   "source": [
    "*Example taken from: https://www.quora.com/q/rrfsinhyglsnclow/The-Kernel-Trick*"
   ]
  },
  {
   "cell_type": "markdown",
   "metadata": {},
   "source": [
    "When considering a simple kernel function such as $\\sigma(x)→x_1^2,𝑥_2^2,\\sqrt(2)x_1𝑥_2$ the expanded representation takes the following steps:"
   ]
  },
  {
   "cell_type": "markdown",
   "metadata": {},
   "source": [
    "- Finding squared (2 operations * 2 for each point)\n",
    "- Taking root (1 operation * 2 for each point)\n",
    "- Dot product (3 operations)"
   ]
  },
  {
   "cell_type": "markdown",
   "metadata": {},
   "source": [
    "This is a total of 9 operations."
   ]
  },
  {
   "cell_type": "markdown",
   "metadata": {},
   "source": [
    "The kernel function takes the following steps:"
   ]
  },
  {
   "cell_type": "markdown",
   "metadata": {},
   "source": [
    "- Apply kernel (1 operation)\n",
    "- Dot product (1 operation)\n",
    "- Squaring scalar (1 operation)"
   ]
  },
  {
   "cell_type": "markdown",
   "metadata": {},
   "source": [
    "This is a total of 3 operations."
   ]
  },
  {
   "cell_type": "markdown",
   "metadata": {},
   "source": [
    "The difference is that in the expanded way, we are dealing with the highdimensional form which is computationally exhausting. In the second version, we stasy in the low dimension and are able to perform operations in there."
   ]
  }
 ],
 "metadata": {
  "kernelspec": {
   "display_name": "Python 3",
   "language": "python",
   "name": "python3"
  },
  "language_info": {
   "codemirror_mode": {
    "name": "ipython",
    "version": 3
   },
   "file_extension": ".py",
   "mimetype": "text/x-python",
   "name": "python",
   "nbconvert_exporter": "python",
   "pygments_lexer": "ipython3",
   "version": "3.8.5"
  }
 },
 "nbformat": 4,
 "nbformat_minor": 4
}
