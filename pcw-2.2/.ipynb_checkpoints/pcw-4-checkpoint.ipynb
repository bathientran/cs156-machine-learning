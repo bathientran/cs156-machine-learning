{
 "cells": [
  {
   "cell_type": "code",
   "execution_count": 17,
   "metadata": {},
   "outputs": [],
   "source": [
    "import pandas as pd\n",
    "from sklearn import linear_model\n",
    "from sklearn.metrics import mean_squared_error, r2_score, mean_absolute_error, confusion_matrix, median_absolute_error\n",
    "from sklearn.model_selection import train_test_split\n",
    "from sklearn.model_selection import cross_val_score"
   ]
  },
  {
   "cell_type": "code",
   "execution_count": 2,
   "metadata": {
    "tags": []
   },
   "outputs": [],
   "source": [
    "# all variables\n",
    "fb_train = pd.read_csv(\"./facebook_train.csv\")\n",
    "fb_train = pd.concat([fb_train, pd.get_dummies(fb_train[\"type\"]), pd.get_dummies(fb_train[\"category\"]), pd.get_dummies(fb_train[\"weekday\"]), pd.get_dummies(fb_train[\"month\"]), pd.get_dummies(fb_train[\"hour\"])], axis=1)\n",
    "fb_train = fb_train.drop([\"type\", \"category\", \"month\", \"weekday\", \"hour\"], axis=1)\n",
    "fb_train.columns = [\"followers\", \"paid\", \"comments\", \"likes\", \"shares\", \"Link\", \"Photo\", \"Status\", \"Video\", \"Category 1\", \"Category 2\", \"Category 3\", \"Mon\",\"Tue\",\"Wed\",\"Thu\",\"Fri\",\"Sat\",\"Sun\", \"Jan\",\"Feb\",\"Mar\",\"May\",\"Apr\",\"Jun\", \"Jul\", \"Aug\",\"Sep\",\"Oct\",\"Nov\", \"Dez\", \"1am\", \"2am\", \"3am\", \"4am\", \"5am\", \"6am\", \"7am\", \"8am\", \"9am\", \"12pm\", \"3pm\", \"4pm\", \"5pm\", \"6pm\", \"7pm\", \"8pm\", \"9pm\",\"10pm\", \"11pm\",\"12am\"]"
   ]
  },
  {
   "cell_type": "code",
   "execution_count": 3,
   "metadata": {},
   "outputs": [],
   "source": [
    "#no hours and above\n",
    "fb_train = pd.read_csv(\"./facebook_train.csv\")\n",
    "fb_train = pd.concat([fb_train, pd.get_dummies(fb_train[\"type\"]), pd.get_dummies(fb_train[\"category\"]), pd.get_dummies(fb_train[\"weekday\"]), pd.get_dummies(fb_train[\"month\"])], axis=1)\n",
    "fb_train = fb_train.drop([\"type\", \"category\", \"month\", \"weekday\", \"hour\"], axis=1)\n",
    "fb_train.columns = [\"followers\", \"paid\", \"comments\", \"likes\", \"shares\", \"Link\", \"Photo\", \"Status\", \"Video\", \"Category 1\", \"Category 2\", \"Category 3\", \"Mon\",\"Tue\",\"Wed\",\"Thu\",\"Fri\",\"Sat\",\"Sun\", \"Jan\",\"Feb\",\"Mar\",\"May\",\"Apr\",\"Jun\", \"Jul\", \"Aug\",\"Sep\",\"Oct\",\"Nov\", \"Dez\"]"
   ]
  },
  {
   "cell_type": "code",
   "execution_count": 4,
   "metadata": {},
   "outputs": [],
   "source": [
    "#no month and above\n",
    "fb_train = pd.read_csv(\"./facebook_train.csv\")\n",
    "fb_train = pd.concat([fb_train, pd.get_dummies(fb_train[\"type\"]), pd.get_dummies(fb_train[\"category\"]), pd.get_dummies(fb_train[\"weekday\"])], axis=1)\n",
    "fb_train = fb_train.drop([\"type\", \"category\", \"month\", \"weekday\", \"hour\"], axis=1)\n",
    "fb_train.columns = [\"followers\", \"paid\", \"comments\", \"likes\", \"shares\", \"Link\", \"Photo\", \"Status\", \"Video\", \"Category 1\", \"Category 2\", \"Category 3\", \"Mon\",\"Tue\",\"Wed\",\"Thu\",\"Fri\",\"Sat\",\"Sun\"]"
   ]
  },
  {
   "cell_type": "code",
   "execution_count": 10,
   "metadata": {},
   "outputs": [],
   "source": [
    "#no day of the week and above\n",
    "fb_train = pd.read_csv(\"./facebook_train.csv\")\n",
    "fb_train = pd.concat([fb_train, pd.get_dummies(fb_train[\"type\"]), pd.get_dummies(fb_train[\"category\"])], axis=1)\n",
    "fb_train = fb_train.drop([\"type\", \"category\", \"month\", \"weekday\", \"hour\"], axis=1)\n",
    "fb_train.columns = [\"followers\", \"paid\", \"comments\", \"likes\", \"shares\", \"Link\", \"Photo\", \"Status\", \"Video\", \"Category 1\", \"Category 2\", \"Category 3\"]"
   ]
  },
  {
   "cell_type": "code",
   "execution_count": 12,
   "metadata": {},
   "outputs": [],
   "source": [
    "#only type\n",
    "fb_train = pd.read_csv(\"./facebook_train.csv\")\n",
    "fb_train = pd.concat([fb_train, pd.get_dummies(fb_train[\"type\"])], axis=1)\n",
    "fb_train = fb_train.drop([\"total_followers\", \"type\", \"category\", \"month\", \"weekday\", \"hour\",\"paid\"], axis=1)\n",
    "fb_train.columns = [\"comments\", \"likes\", \"shares\",\"Link\", \"Photo\", \"Status\", \"Video\"]"
   ]
  },
  {
   "cell_type": "code",
   "execution_count": 66,
   "metadata": {},
   "outputs": [
    {
     "name": "stdout",
     "output_type": "stream",
     "text": [
      "     total_followers    type  category  month  weekday  hour  paid  comment  \\\n",
      "0             124050   Photo         3      6        4    17     1        3   \n",
      "1             132556   Photo         2      8        3    24     0       11   \n",
      "2              92786   Photo         2      2        6    17     1        2   \n",
      "3             135632   Photo         1      9        2     1     0        2   \n",
      "4             139540    Link         1     12        3    17     1        7   \n",
      "..               ...     ...       ...    ...      ...   ...   ...      ...   \n",
      "392           138114  Status         2     12        2     1     0       12   \n",
      "393           127937  Status         2      6        3    18     0        4   \n",
      "394           135656   Video         1      9        6    24     0        7   \n",
      "395           124663   Photo         3      6        3    16     1        1   \n",
      "396            93096   Photo         1      2        3     3     1        6   \n",
      "\n",
      "     like  share  \n",
      "0      77     16  \n",
      "1     313     50  \n",
      "2     145     39  \n",
      "3     299     49  \n",
      "4     229     21  \n",
      "..    ...    ...  \n",
      "392   498     87  \n",
      "393    85     20  \n",
      "394   397    143  \n",
      "395    87     18  \n",
      "396   296     32  \n",
      "\n",
      "[397 rows x 10 columns]\n"
     ]
    }
   ],
   "source": [
    "#chosen model\n",
    "fb_train = pd.read_csv(\"./facebook_train.csv\")\n",
    "print(fb_train)\n",
    "fb_train = pd.concat([fb_train], axis=1)\n",
    "fb_train = fb_train.drop([\"total_followers\", \"type\", \"category\", \"month\", \"weekday\", \"hour\"], axis=1)\n",
    "fb_train.columns = [\"paid\",\"comments\", \"likes\", \"shares\",]"
   ]
  },
  {
   "cell_type": "code",
   "execution_count": 67,
   "metadata": {},
   "outputs": [
    {
     "data": {
      "text/plain": [
       "64       89\n",
       "55       18\n",
       "316     430\n",
       "102    2306\n",
       "261     122\n",
       "       ... \n",
       "323     618\n",
       "192      67\n",
       "117    1479\n",
       "47      421\n",
       "172     423\n",
       "Name: likes, Length: 317, dtype: int64"
      ]
     },
     "execution_count": 67,
     "metadata": {},
     "output_type": "execute_result"
    }
   ],
   "source": [
    "#splitting model\n",
    "fb_model = fb_train\n",
    "fb_target = fb_model.likes\n",
    "x_train, x_test, y_train, y_test = train_test_split(fb_model, fb_target, test_size=0.2, random_state=0)\n",
    "x_train = x_train.drop([\"likes\"], axis=1)\n",
    "y_train"
   ]
  },
  {
   "cell_type": "code",
   "execution_count": 68,
   "metadata": {},
   "outputs": [
    {
     "name": "stdout",
     "output_type": "stream",
     "text": [
      "[0.5564875  0.52058848 0.58458662 0.82180383 0.72492765 0.42374173\n",
      " 0.94315632 0.76699675 0.94065809 0.55563282]\n"
     ]
    },
    {
     "data": {
      "text/plain": [
       "LinearRegression()"
      ]
     },
     "execution_count": 68,
     "metadata": {},
     "output_type": "execute_result"
    }
   ],
   "source": [
    "#running regression and cross validation\n",
    "reg = linear_model.LinearRegression()\n",
    "scores = cross_val_score(reg, x_train, y_train, cv=10)\n",
    "print(scores)\n",
    "reg.fit(x_train, y_train)"
   ]
  },
  {
   "cell_type": "code",
   "execution_count": 69,
   "metadata": {
    "tags": []
   },
   "outputs": [
    {
     "data": {
      "text/html": [
       "<div>\n",
       "<style scoped>\n",
       "    .dataframe tbody tr th:only-of-type {\n",
       "        vertical-align: middle;\n",
       "    }\n",
       "\n",
       "    .dataframe tbody tr th {\n",
       "        vertical-align: top;\n",
       "    }\n",
       "\n",
       "    .dataframe thead th {\n",
       "        text-align: right;\n",
       "    }\n",
       "</style>\n",
       "<table border=\"1\" class=\"dataframe\">\n",
       "  <thead>\n",
       "    <tr style=\"text-align: right;\">\n",
       "      <th></th>\n",
       "      <th>var</th>\n",
       "      <th>coef</th>\n",
       "    </tr>\n",
       "  </thead>\n",
       "  <tbody>\n",
       "    <tr>\n",
       "      <th>0</th>\n",
       "      <td>paid</td>\n",
       "      <td>49.75</td>\n",
       "    </tr>\n",
       "    <tr>\n",
       "      <th>2</th>\n",
       "      <td>shares</td>\n",
       "      <td>5.44</td>\n",
       "    </tr>\n",
       "    <tr>\n",
       "      <th>1</th>\n",
       "      <td>comments</td>\n",
       "      <td>2.88</td>\n",
       "    </tr>\n",
       "  </tbody>\n",
       "</table>\n",
       "</div>"
      ],
      "text/plain": [
       "        var   coef\n",
       "0      paid  49.75\n",
       "2    shares   5.44\n",
       "1  comments   2.88"
      ]
     },
     "execution_count": 69,
     "metadata": {},
     "output_type": "execute_result"
    }
   ],
   "source": [
    "#displaying coefficients for linear model\n",
    "results_df = pd.DataFrame({\"var\": fb_model.drop([\"likes\"], axis=1).columns, \"coef\": reg.coef_})\n",
    "\n",
    "results_df.round(2).sort_values('coef',ascending=False)"
   ]
  },
  {
   "cell_type": "code",
   "execution_count": 70,
   "metadata": {
    "tags": []
   },
   "outputs": [
    {
     "name": "stdout",
     "output_type": "stream",
     "text": [
      "Mean Squared Error: 23952.5296\n",
      "Mean Absolute Error: 69.016\n",
      "Median Absolute Error: 31.27\n",
      "R^2 Score: 0.7739\n"
     ]
    }
   ],
   "source": [
    "#showing results\n",
    "print(\"Mean Squared Error:\", round(mean_squared_error(y_test, reg.predict(x_test.drop([\"likes\"], axis=1))),4))\n",
    "print(\"Mean Absolute Error:\", round(mean_absolute_error(y_test, reg.predict(x_test.drop([\"likes\"], axis=1))),4))\n",
    "print(\"Median Absolute Error:\", round(median_absolute_error(y_test, reg.predict(x_test.drop([\"likes\"], axis=1))),4))\n",
    "print(\"R^2 Score:\",round(r2_score(y_test, reg.predict(x_test.drop([\"likes\"], axis=1))),4))"
   ]
  },
  {
   "cell_type": "code",
   "execution_count": 24,
   "metadata": {},
   "outputs": [],
   "source": [
    "import numpy as np\n",
    "from sklearn.ensemble import RandomForestClassifier "
   ]
  },
  {
   "cell_type": "code",
   "execution_count": 25,
   "metadata": {
    "tags": []
   },
   "outputs": [
    {
     "data": {
      "text/plain": [
       "count     214126\n",
       "unique         2\n",
       "top        False\n",
       "freq      191159\n",
       "Name: severe, dtype: object"
      ]
     },
     "execution_count": 25,
     "metadata": {},
     "output_type": "execute_result"
    }
   ],
   "source": [
    "#loading and inspecting data\n",
    "casual_data = pd.read_csv(\"./casualty_train.csv\")\n",
    "casual_data = casual_data[(casual_data['age'] != 'Unknown')]\n",
    "casual_data = casual_data[(casual_data['pedestrian_location'] != 'Unknown')]\n",
    "casual_data[\"severe\"].describe()\n",
    "#print(casual_data.pedestrian_location.unique())\n",
    "#print(casual_data.pedestrian_movement.unique())"
   ]
  },
  {
   "cell_type": "code",
   "execution_count": 26,
   "metadata": {},
   "outputs": [],
   "source": [
    "#all variables\n",
    "casual_data_dummy = pd.concat([casual_data, pd.get_dummies(casual_data[\"casualty_class\"]), pd.get_dummies(casual_data[\"gender\"]), pd.get_dummies(casual_data[\"travel\"]), pd.get_dummies(casual_data[\"pedestrian_location\"]), pd.get_dummies(casual_data[\"pedestrian_movement\"]), pd.get_dummies(casual_data[\"year\"])], axis=1).drop([\"casualty_class\", \"gender\", \"pedestrian_location\", \"pedestrian_movement\", \"travel\",\"year\"],axis=1)"
   ]
  },
  {
   "cell_type": "code",
   "execution_count": 27,
   "metadata": {},
   "outputs": [],
   "source": [
    "#no pedestrian movement\n",
    "casual_data_dummy = pd.concat([casual_data, pd.get_dummies(casual_data[\"casualty_class\"]), pd.get_dummies(casual_data[\"gender\"]), pd.get_dummies(casual_data[\"travel\"]), pd.get_dummies(casual_data[\"pedestrian_location\"]), pd.get_dummies(casual_data[\"year\"])], axis=1).drop([\"casualty_class\", \"gender\", \"pedestrian_location\", \"pedestrian_movement\", \"travel\",\"year\"],axis=1)"
   ]
  },
  {
   "cell_type": "code",
   "execution_count": 28,
   "metadata": {},
   "outputs": [],
   "source": [
    "#no pedestrian location and above\n",
    "casual_data_dummy = pd.concat([casual_data, pd.get_dummies(casual_data[\"casualty_class\"]), pd.get_dummies(casual_data[\"gender\"]), pd.get_dummies(casual_data[\"travel\"]), pd.get_dummies(casual_data[\"year\"])], axis=1).drop([\"casualty_class\", \"gender\", \"pedestrian_location\", \"pedestrian_movement\", \"travel\",\"year\"],axis=1)"
   ]
  },
  {
   "cell_type": "code",
   "execution_count": 29,
   "metadata": {},
   "outputs": [],
   "source": [
    "#no year and above\n",
    "casual_data_dummy = pd.concat([casual_data, pd.get_dummies(casual_data[\"casualty_class\"]), pd.get_dummies(casual_data[\"gender\"]), pd.get_dummies(casual_data[\"travel\"])], axis=1).drop([\"casualty_class\", \"gender\", \"pedestrian_location\", \"pedestrian_movement\", \"travel\",\"year\"],axis=1)"
   ]
  },
  {
   "cell_type": "code",
   "execution_count": 30,
   "metadata": {},
   "outputs": [
    {
     "data": {
      "text/plain": [
       "Index(['age', 'driver', 'passenger', 'pedestrian', 'female', 'male', 'bicycle',\n",
       "       'bus', 'car', 'motorbike', 'other', 'pedestrian', 'taxi'],\n",
       "      dtype='object')"
      ]
     },
     "execution_count": 30,
     "metadata": {},
     "output_type": "execute_result"
    }
   ],
   "source": [
    "#data splitting\n",
    "x_train, x_test, y_train, y_test = train_test_split(casual_data_dummy.drop([\"severe\"], axis=1), casual_data_dummy.severe, test_size=0.2, random_state=0)\n",
    "x_train.columns"
   ]
  },
  {
   "cell_type": "code",
   "execution_count": 31,
   "metadata": {},
   "outputs": [
    {
     "name": "stdout",
     "output_type": "stream",
     "text": [
      "0.8924485125858124\n"
     ]
    }
   ],
   "source": [
    "#running classification\n",
    "rf = RandomForestClassifier()\n",
    "rf.fit(x_train, y_train)\n",
    "rf.predict(x_test)\n",
    "print(rf.score(x_test, y_test))"
   ]
  },
  {
   "cell_type": "code",
   "execution_count": 158,
   "metadata": {},
   "outputs": [
    {
     "data": {
      "text/html": [
       "<div>\n",
       "<style scoped>\n",
       "    .dataframe tbody tr th:only-of-type {\n",
       "        vertical-align: middle;\n",
       "    }\n",
       "\n",
       "    .dataframe tbody tr th {\n",
       "        vertical-align: top;\n",
       "    }\n",
       "\n",
       "    .dataframe thead th {\n",
       "        text-align: right;\n",
       "    }\n",
       "</style>\n",
       "<table border=\"1\" class=\"dataframe\">\n",
       "  <thead>\n",
       "    <tr style=\"text-align: right;\">\n",
       "      <th></th>\n",
       "      <th>importance</th>\n",
       "    </tr>\n",
       "  </thead>\n",
       "  <tbody>\n",
       "    <tr>\n",
       "      <th>age</th>\n",
       "      <td>0.444847</td>\n",
       "    </tr>\n",
       "    <tr>\n",
       "      <th>driver</th>\n",
       "      <td>0.025597</td>\n",
       "    </tr>\n",
       "    <tr>\n",
       "      <th>passenger</th>\n",
       "      <td>0.025116</td>\n",
       "    </tr>\n",
       "    <tr>\n",
       "      <th>pedestrian</th>\n",
       "      <td>0.129880</td>\n",
       "    </tr>\n",
       "    <tr>\n",
       "      <th>female</th>\n",
       "      <td>0.011688</td>\n",
       "    </tr>\n",
       "    <tr>\n",
       "      <th>male</th>\n",
       "      <td>0.012966</td>\n",
       "    </tr>\n",
       "    <tr>\n",
       "      <th>bicycle</th>\n",
       "      <td>0.101521</td>\n",
       "    </tr>\n",
       "    <tr>\n",
       "      <th>bus</th>\n",
       "      <td>0.007733</td>\n",
       "    </tr>\n",
       "    <tr>\n",
       "      <th>car</th>\n",
       "      <td>0.155882</td>\n",
       "    </tr>\n",
       "    <tr>\n",
       "      <th>motorbike</th>\n",
       "      <td>0.048790</td>\n",
       "    </tr>\n",
       "    <tr>\n",
       "      <th>other</th>\n",
       "      <td>0.005406</td>\n",
       "    </tr>\n",
       "    <tr>\n",
       "      <th>pedestrian</th>\n",
       "      <td>0.022619</td>\n",
       "    </tr>\n",
       "    <tr>\n",
       "      <th>taxi</th>\n",
       "      <td>0.007955</td>\n",
       "    </tr>\n",
       "  </tbody>\n",
       "</table>\n",
       "</div>"
      ],
      "text/plain": [
       "            importance\n",
       "age           0.444847\n",
       "driver        0.025597\n",
       "passenger     0.025116\n",
       "pedestrian    0.129880\n",
       "female        0.011688\n",
       "male          0.012966\n",
       "bicycle       0.101521\n",
       "bus           0.007733\n",
       "car           0.155882\n",
       "motorbike     0.048790\n",
       "other         0.005406\n",
       "pedestrian    0.022619\n",
       "taxi          0.007955"
      ]
     },
     "execution_count": 158,
     "metadata": {},
     "output_type": "execute_result"
    }
   ],
   "source": [
    "#showing variable importance\n",
    "feature_importances = pd.DataFrame(rf.feature_importances_, index = x_train.columns, columns=['importance'])\n",
    "feature_importances"
   ]
  },
  {
   "cell_type": "code",
   "execution_count": 35,
   "metadata": {},
   "outputs": [
    {
     "name": "stdout",
     "output_type": "stream",
     "text": [
      "count     58208\n",
      "unique        2\n",
      "top       False\n",
      "freq      51935\n",
      "Name: severe, dtype: object\n",
      "0.8915631228926436\n"
     ]
    }
   ],
   "source": [
    "c_test = pd.read_csv('./casualty_test.csv')\n",
    "print(c_test.severe.describe())\n",
    "c_test = c_test[(c_test['age'] != 'Unknown')]\n",
    "c_test = c_test[(c_test['pedestrian_location'] != 'Unknown')]\n",
    "c_test_dummy = pd.concat([c_test, pd.get_dummies(c_test[\"casualty_class\"]), pd.get_dummies(c_test[\"gender\"]), pd.get_dummies(c_test[\"travel\"])], axis=1).drop([\"casualty_class\", \"gender\", \"pedestrian_location\", \"pedestrian_movement\", \"travel\",\"year\"],axis=1)\n",
    "print(rf.score(c_test_dummy.drop([\"severe\"], axis=1), c_test_dummy[\"severe\"]))"
   ]
  },
  {
   "cell_type": "code",
   "execution_count": 71,
   "metadata": {},
   "outputs": [
    {
     "name": "stdout",
     "output_type": "stream",
     "text": [
      "Precision: 0.2281\n",
      "Accuracy: 0.8916\n",
      "Recall: 0.0022\n",
      "              precision    recall  f1-score   support\n",
      "\n",
      "       False       0.89      1.00      0.94     47891\n",
      "        True       0.23      0.00      0.00      5790\n",
      "\n",
      "    accuracy                           0.89     53681\n",
      "   macro avg       0.56      0.50      0.47     53681\n",
      "weighted avg       0.82      0.89      0.84     53681\n",
      "\n",
      "[[47847    44]\n",
      " [ 5777    13]]\n"
     ]
    }
   ],
   "source": [
    "from sklearn.metrics import precision_score, recall_score, classification_report, roc_auc_score, mutual_info_score\n",
    "y_true = c_test_dummy[\"severe\"]\n",
    "y_predict = rf.predict(c_test_dummy.drop([\"severe\"], axis=1))\n",
    "\n",
    "print(\"Precision: %.4f\" % precision_score(y_true, y_predict))\n",
    "print(\"Accuracy: %.4f\" % rf.score(c_test_dummy.drop([\"severe\"], axis=1), y_true))\n",
    "print(\"Recall: %.4f\" % recall_score(y_true, y_predict))\n",
    "print(classification_report(y_true, y_predict))\n",
    "print(confusion_matrix(y_true, y_predict))"
   ]
  },
  {
   "cell_type": "code",
   "execution_count": 48,
   "metadata": {},
   "outputs": [
    {
     "name": "stdout",
     "output_type": "stream",
     "text": [
      "ROC: 0.6518\n"
     ]
    }
   ],
   "source": [
    "from sklearn.metrics import roc_curve, auc\n",
    "y_scores = rf.predict_proba(c_test_dummy.drop([\"severe\"], axis=1))\n",
    "\n",
    "roc_score = roc_auc_score(y_true, y_scores[:,1])\n",
    "\n",
    "print(\"ROC: %.4f\" % roc_score)"
   ]
  },
  {
   "cell_type": "code",
   "execution_count": 57,
   "metadata": {},
   "outputs": [
    {
     "data": {
      "image/png": "[encoded data removed]",
      "text/plain": [
       "<Figure size 432x288 with 1 Axes>"
      ]
     },
     "metadata": {
      "needs_background": "light"
     },
     "output_type": "display_data"
    }
   ],
   "source": [
    "import matplotlib.pyplot as plt\n",
    "rcv = roc_curve(y_true, y_scores[:,1])\n",
    "\n",
    "plt.figure()\n",
    "plt.plot(rcv[0], rcv[1], color='red',lw=2, label='ROC Curve (area = %0.4f)' % auc(rcv[0], rcv[1]))\n",
    "plt.plot([0,1],[0,1], color='navy', lw=2, linestyle='--')\n",
    "plt.xlabel('False Positive Rate')\n",
    "plt.ylabel('True Positive Rate')\n",
    "plt.title('ROC Curve')\n",
    "plt.legend(loc=\"lower right\")\n",
    "plt.xlim([0.0, 1.0])\n",
    "plt.ylim([0.0, 1.0])\n",
    "plt.show()"
   ]
  },
  {
   "cell_type": "code",
   "execution_count": 73,
   "metadata": {},
   "outputs": [
    {
     "data": {
      "text/plain": [
       "0.0001"
      ]
     },
     "execution_count": 73,
     "metadata": {},
     "output_type": "execute_result"
    }
   ],
   "source": [
    "round(mutual_info_score(y_true, y_predict),4)"
   ]
  }
 ],
 "metadata": {
  "kernelspec": {
   "display_name": "Python 3",
   "language": "python",
   "name": "python3"
  },
  "language_info": {
   "codemirror_mode": {
    "name": "ipython",
    "version": 3
   },
   "file_extension": ".py",
   "mimetype": "text/x-python",
   "name": "python",
   "nbconvert_exporter": "python",
   "pygments_lexer": "ipython3",
   "version": "3.8.5"
  }
 },
 "nbformat": 4,
 "nbformat_minor": 2
}
