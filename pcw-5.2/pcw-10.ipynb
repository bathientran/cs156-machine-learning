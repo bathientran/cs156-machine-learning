{
 "cells": [
  {
   "cell_type": "markdown",
   "metadata": {},
   "source": [
    "### 8.3"
   ]
  },
  {
   "cell_type": "markdown",
   "metadata": {},
   "source": [
    "Marginal Probabilites:"
   ]
  },
  {
   "cell_type": "markdown",
   "metadata": {},
   "source": [
    "$$P(a=0) = 192+144+48+216 = 600$$\n",
    "$$P(a=1) = 192+64+48+96 = 400$$\n",
    "$$P(b=0) = 192+144+152+64 = 592$$\n",
    "$$P(b=1) = 48+216+48+96 = 408$$"
   ]
  },
  {
   "cell_type": "markdown",
   "metadata": {},
   "source": [
    "Joint distribution over states of c"
   ]
  },
  {
   "cell_type": "markdown",
   "metadata": {},
   "source": [
    "$$p(a,b)=\\sum_{c\\in\\{0,1\\}}p(a,b,c)$$"
   ]
  },
  {
   "cell_type": "markdown",
   "metadata": {},
   "source": [
    "$$p(a=0,b=0)=192+144=336$$\n",
    "$$p(a=0,b=1)=48+216=264$$\n",
    "$$p(a=1,b=0)=192+64=256$$\n",
    "$$p(a=1,b=1)=48+96=144$$"
   ]
  },
  {
   "cell_type": "markdown",
   "metadata": {},
   "source": [
    "Comparison\n",
    "$$p(a=0,b=0) \\neq P(a=0)P(b=0)$$\n",
    "$$p(a=0,b=1) \\neq P(a=0)P(b=1)$$\n",
    "$$p(a=1,b=0) \\neq P(a=1)P(b=0)$$\n",
    "$$p(a=1,b=1) \\neq P(a=1)P(b=1)$$ <br>\n",
    "Thus, the three variables are marginally dependent."
   ]
  },
  {
   "cell_type": "markdown",
   "metadata": {},
   "source": [
    "###### Conditioned on c"
   ]
  },
  {
   "cell_type": "markdown",
   "metadata": {},
   "source": [
    "$$p(a,b|c)=\\frac{p(a,b,c)}{\\sum_{a\\in\\{0,1\\}}\\sum_{b\\in\\{0,1\\}}p(a,b,c)}$$ <br>\n",
    "$$p(a|c)=\\frac{\\sum_{b\\in\\{0,1\\}}p(a,b,c)}{\\sum_{a\\in\\{0,1\\}}\\sum_{b\\in\\{0,1\\}}p(a,b,c)}$$\n",
    "<br>\n",
    "$$p(b|c)=\\frac{\\sum_{a\\in\\{0,1\\}}p(a,b,c)}{\\sum_{a\\in\\{0,1\\}}\\sum_{b\\in\\{0,1\\}}p(a,b,c)}$$"
   ]
  },
  {
   "cell_type": "markdown",
   "metadata": {},
   "source": [
    "$$p(a=0,b=0|c=0) = 192/480=0.4$$\n",
    "$$p(a=0,b=1|c=0) = 48/480=0.1$$\n",
    "$$p(a=1,b=0|c=0) = 192/480=0.4$$\n",
    "$$p(a=1,b=1|c=0) = 48/480=0.1$$\n",
    "$$p(a=0,b=0|c=1) = 144/520=0.277$$\n",
    "$$p(a=0,b=1|c=1) = 216/520=0.415$$\n",
    "$$p(a=1,b=0|c=1) = 64/520=0.123$$\n",
    "$$p(a=1,b=1|c=1) = 48/520=0.185$$"
   ]
  },
  {
   "cell_type": "markdown",
   "metadata": {},
   "source": [
    "$$p(a=0|c=0)p(b=0|c=0)=240/480*384/480=0.4$$\n",
    "$$p(a=0|c=0)p(b=1|c=0)=240/480*96/480=0.1$$\n",
    "$$p(a=1|c=0)p(b=0|c=0)=240/480*384/480=0.4$$\n",
    "$$p(a=1|c=0)p(b=1|c=0)=240/480*96/480=0.1$$\n",
    "$$p(a=0|c=0)p(b=0|c=1)=360/520*208/520=0.277$$\n",
    "$$p(a=0|c=0)p(b=1|c=1)=360/520*312/520=0.415$$\n",
    "$$p(a=1|c=0)p(b=0|c=1)=160/520*208/520=0.123$$\n",
    "$$p(a=1|c=0)p(b=1|c=1)=160/520*312/520=0.185$$"
   ]
  },
  {
   "cell_type": "markdown",
   "metadata": {},
   "source": [
    "Since the conditional joint probability and marginal probabilites are equal, a and b are conditionally independent on c."
   ]
  },
  {
   "cell_type": "markdown",
   "metadata": {},
   "source": [
    "### 8.4"
   ]
  },
  {
   "cell_type": "markdown",
   "metadata": {},
   "source": [
    "Computing $p(c|a)$"
   ]
  },
  {
   "cell_type": "markdown",
   "metadata": {},
   "source": [
    "$$p(a|c)=\\frac{\\sum_{b\\in\\{0,1\\}}p(a,b,c)}{\\sum_{a\\in\\{0,1\\}}\\sum_{c\\in\\{0,1\\}}p(a,b,c)}$$"
   ]
  },
  {
   "cell_type": "markdown",
   "metadata": {},
   "source": [
    "$$p(c=0|a=0)=240/600=0.4$$\n",
    "$$p(c=0|a=1)=240/400=0.6$$\n",
    "$$p(c=1|a=0)=360/600=0.6$$\n",
    "$$p(c=1|a=1)=160/400=0.4$$"
   ]
  },
  {
   "cell_type": "markdown",
   "metadata": {},
   "source": [
    "If we multiply all probabilities together, we will end up in the original p(a,b,c) table."
   ]
  },
  {
   "cell_type": "markdown",
   "metadata": {},
   "source": [
    "![img1](img1.png)"
   ]
  },
  {
   "cell_type": "markdown",
   "metadata": {},
   "source": [
    "### 8.11"
   ]
  },
  {
   "cell_type": "markdown",
   "metadata": {},
   "source": [
    "Using Bayes' Theorem:\n",
    "\n",
    "$$p(F=0|D=0)=\\frac{p(D=0|F=0)p(F=0)}{p(D=0)}$$"
   ]
  },
  {
   "cell_type": "markdown",
   "metadata": {},
   "source": [
    "Deriving $p(D=0|F=0)$ by expressing F in terms of sum of marginalized over  G:\n",
    "\n",
    "$$p(D=0|F=0)=\\sum_{G}p(D=0|G)p(G|F=0) = 0.9*0.81+0.1*0.19 = 0.729$$\n",
    "\n",
    "Deriving $p(D=0)$ by additionally marginalizing over F:\n",
    "\n",
    "$$p(D=0)=\\sum_{G,F}p(D=0|G)p(G|F) = 0.729 + $$\n",
    "\n",
    "***Couldn't solve as I was not able to derive p(D=0).***"
   ]
  },
  {
   "cell_type": "markdown",
   "metadata": {},
   "source": [
    "### 2. Flu in the Class"
   ]
  },
  {
   "cell_type": "markdown",
   "metadata": {},
   "source": [
    "##### A. General"
   ]
  },
  {
   "cell_type": "markdown",
   "metadata": {},
   "source": [
    "1. $P(X_n, X_{n+1}, ..., X_i)=P(X_n|X_{n+1}, ..., X_i)P(X_{n+1}|X_{n+2}, ..., X_i), ..., P(X_{i-1}|X_i)P(X_i)$"
   ]
  },
  {
   "cell_type": "markdown",
   "metadata": {},
   "source": [
    "3. N-1"
   ]
  },
  {
   "cell_type": "markdown",
   "metadata": {},
   "source": [
    "##### B. Independence"
   ]
  },
  {
   "cell_type": "markdown",
   "metadata": {},
   "source": [
    "1. $P(X_n, X_{n+1}, ..., X_i)=P(X_n)P(X_{n+1}), ...,P(X_i)$"
   ]
  },
  {
   "cell_type": "markdown",
   "metadata": {},
   "source": [
    "3. N"
   ]
  },
  {
   "cell_type": "markdown",
   "metadata": {},
   "source": [
    "##### C. Groups"
   ]
  },
  {
   "cell_type": "markdown",
   "metadata": {},
   "source": [
    "Every group of five is conditionally independent:"
   ]
  },
  {
   "cell_type": "markdown",
   "metadata": {},
   "source": [
    "1. $P(X_n, X_{n+1}, ..., X_i)=P(X_n|X_{n+1}, ..., X_{n+5})P(X_{n+1}|X_{n+2}, ..., X_{n+5}),...,P(X_{n+4}|X_{n+5})P(X_{n+5})*P(X_{n+6}|X_{n+7}, ...,X_{n+10}),P(X_{n+7}|X_{n+8}, ...,X_{n+10})P(X_{n+9}|X_{n+10})P(X_{n+10}),...,P(X_{i-5}|X_{i-4}, ...,X_{i}),P(X_{i-4}|X_{i-3}, ...,X_{i})P(X_{i-1}|X_{i})P(X_{i})$"
   ]
  },
  {
   "cell_type": "markdown",
   "metadata": {},
   "source": [
    "3. N-N/5"
   ]
  },
  {
   "cell_type": "markdown",
   "metadata": {},
   "source": [
    "##### D. Tutors"
   ]
  },
  {
   "cell_type": "markdown",
   "metadata": {},
   "source": [
    "Not sure how to represent."
   ]
  }
 ],
 "metadata": {
  "kernelspec": {
   "display_name": "Python 3",
   "language": "python",
   "name": "python3"
  },
  "language_info": {
   "codemirror_mode": {
    "name": "ipython",
    "version": 3
   },
   "file_extension": ".py",
   "mimetype": "text/x-python",
   "name": "python",
   "nbconvert_exporter": "python",
   "pygments_lexer": "ipython3",
   "version": "3.8.5"
  }
 },
 "nbformat": 4,
 "nbformat_minor": 4
}
