{
 "cells": [
  {
   "cell_type": "markdown",
   "metadata": {},
   "source": [
    "# Model Equations"
   ]
  },
  {
   "cell_type": "markdown",
   "metadata": {},
   "source": [
    "$\\hat{x}_t=\\hat{x}_{t-1} + \\hat{v}_{x, t-1} dT$\n",
    "\n",
    "$\\hat{y}_t=\\hat{y}_{t-1} + \\hat{v}_{y, t-1} dT$ \n",
    "\n",
    "$\\hat{v}_{x,t}=\\hat{v}_{x,t-1} + a_{x} dT$\n",
    "\n",
    "$\\hat{v}_{y,t}=\\hat{v}_{y,t-1} + a_{y} dT$"
   ]
  },
  {
   "cell_type": "markdown",
   "metadata": {},
   "source": [
    "# Kalman Filter Equations"
   ]
  },
  {
   "cell_type": "markdown",
   "metadata": {},
   "source": [
    "$\\hat{x}_t=\\hat{x}_{t}' - H\\hat{x}_{t}')$\n",
    "\n",
    "$\\hat{y}_t=\\hat{y}_{t}' - H\\hat{y}_{t}')$\n",
    "\n",
    "$\\hat{v}_{x,t}=\\hat{v}_{x,t}' + K_k(v_{x,t} - H\\hat{v}_{x,t}')$\n",
    "\n",
    "$\\hat{v}_{y,t}=\\hat{v}_{y,t}' + K_k(v_{y,t} - H\\hat{v}_{y,t}')$\n",
    "\n",
    "Where $'$ is a prior estimate from the model and standard $K_k$ is derived from Kalman gain where $R = N(0,500)$ and update covariance uses $Q = N(0,1)$."
   ]
  }
 ],
 "metadata": {
  "kernelspec": {
   "display_name": "Python 3",
   "language": "python",
   "name": "python3"
  },
  "language_info": {
   "codemirror_mode": {
    "name": "ipython",
    "version": 3
   },
   "file_extension": ".py",
   "mimetype": "text/x-python",
   "name": "python",
   "nbconvert_exporter": "python",
   "pygments_lexer": "ipython3",
   "version": "3.8.5"
  }
 },
 "nbformat": 4,
 "nbformat_minor": 4
}
