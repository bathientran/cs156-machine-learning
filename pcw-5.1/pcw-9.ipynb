{
 "cells": [
  {
   "cell_type": "markdown",
   "metadata": {},
   "source": [
    "### 1. Barber Exercise 7.1"
   ]
  },
  {
   "cell_type": "markdown",
   "metadata": {},
   "source": [
    "$$U(Win) = LS$$\n",
    "$$U(Lose) = LS$$\n",
    "\n",
    "$$EU=(p*£S+(1-p)*(-£S))$$\n",
    "$$EU=£S(p+(p-1))$$\n",
    "$$EU=£S(2p-1)$$\n",
    "$$EU=£(2p-1)S$$"
   ]
  },
  {
   "cell_type": "markdown",
   "metadata": {},
   "source": [
    "### 2. Playing the Lottery"
   ]
  },
  {
   "cell_type": "markdown",
   "metadata": {},
   "source": [
    "##### Expected Utility"
   ]
  },
  {
   "cell_type": "markdown",
   "metadata": {},
   "source": [
    "$$EU(lottery)={6 \\choose 49}*100,000,000+(1-{6 \\choose 49})U$$"
   ]
  },
  {
   "cell_type": "markdown",
   "metadata": {},
   "source": [
    "$$EU(movie)=1.1U$$"
   ]
  },
  {
   "cell_type": "markdown",
   "metadata": {},
   "source": [
    "$$U = 100000000/1000000 = 100$$"
   ]
  },
  {
   "cell_type": "markdown",
   "metadata": {},
   "source": [
    "$$EU(lottery)={6 \\choose 49}*100,000,000+(1-{6 \\choose 49})*100$$"
   ]
  },
  {
   "cell_type": "markdown",
   "metadata": {},
   "source": [
    "$$EU(lottery)=7.15+99.99999 \\approx 107.15$$ <br>\n",
    "$$EU(movie) = 110$$ <br>\n",
    "$$EU(movie)>EU(lottery)$$"
   ]
  },
  {
   "cell_type": "markdown",
   "metadata": {},
   "source": [
    "I would not play the lottery since the utility of going to the movies is higher (110 > 107)."
   ]
  },
  {
   "cell_type": "markdown",
   "metadata": {},
   "source": [
    "##### Financial Impact"
   ]
  },
  {
   "cell_type": "markdown",
   "metadata": {},
   "source": [
    "$$EU(lottery)={6 \\choose 49}*99,999,990+(1-{6 \\choose 49})*(-10)$$"
   ]
  },
  {
   "cell_type": "markdown",
   "metadata": {},
   "source": [
    "$$EU(lotter)=7.151 - 9.99 \\approx -2.85$$"
   ]
  },
  {
   "cell_type": "markdown",
   "metadata": {},
   "source": [
    "I would not play the lottery as on average I should lose $2.85."
   ]
  },
  {
   "cell_type": "code",
   "execution_count": null,
   "metadata": {},
   "outputs": [],
   "source": []
  }
 ],
 "metadata": {
  "kernelspec": {
   "display_name": "Python 3",
   "language": "python",
   "name": "python3"
  },
  "language_info": {
   "codemirror_mode": {
    "name": "ipython",
    "version": 3
   },
   "file_extension": ".py",
   "mimetype": "text/x-python",
   "name": "python",
   "nbconvert_exporter": "python",
   "pygments_lexer": "ipython3",
   "version": "3.8.5"
  }
 },
 "nbformat": 4,
 "nbformat_minor": 4
}
