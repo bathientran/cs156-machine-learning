{
 "cells": [
  {
   "cell_type": "markdown",
   "metadata": {},
   "source": [
    "### The Coin-Flipping Experiment"
   ]
  },
  {
   "cell_type": "markdown",
   "metadata": {},
   "source": [
    "1. Probability Distribution"
   ]
  },
  {
   "cell_type": "markdown",
   "metadata": {},
   "source": [
    "We are interested in:\n",
    "\n",
    "$$P(z|\\theta) = \\prod _{n=1} ^N P(z_n|\\theta)$$\n",
    "\n",
    "With:\n",
    "\n",
    "$$P(x|z,\\theta) = \\prod _{n=1} ^N P(x_n|z,\\theta)$$\n",
    "\n",
    "And:\n",
    "\n",
    "$$P(z|x,\\theta^k) = \\frac {P(x|z,\\theta^k)P(z|\\theta^k)}{\\sum _{z'}P(x|z',\\theta^k)}$$"
   ]
  },
  {
   "cell_type": "markdown",
   "metadata": {},
   "source": [
    "2. Implementation"
   ]
  },
  {
   "cell_type": "code",
   "execution_count": 87,
   "metadata": {},
   "outputs": [],
   "source": [
    "### Adapted from http://karlrosaen.com/ml/notebooks/em-coin-flips/ ###\n",
    "import math\n",
    "import random\n",
    "\n",
    "def EM(flip_trials, thetaA, thetaB, max_runs, max_runs_num):\n",
    "    #Creating initial theta or taking from last\n",
    "    thetaA = thetaA or random.random()\n",
    "    thetaB = thetaB or random.random()\n",
    "    #Storing Thetas\n",
    "    thetas = [(thetaA, thetaB)]\n",
    "    \n",
    "    #Update thetas with termination rule\n",
    "    if max_runs:\n",
    "        for i in range(max_runs_num):\n",
    "            #Calculate expected values using given thetas\n",
    "            h_A, t_A, h_B, t_B = eStep(flip_trials, thetaA, thetaB)\n",
    "            #Calculate new thetas with the expected values\n",
    "            new_thetaA, new_thetaB = mStep(h_A, t_A, h_B, t_B)\n",
    "            #Add new thetas to list of all thetas\n",
    "            thetas.append((new_thetaA, new_thetaB))\n",
    "            #Update curren thetas\n",
    "            thetaA, thetaB = new_thetaA, new_thetaB\n",
    "    \n",
    "    return thetaA, thetaB, thetas\n",
    "\n",
    "#Calculates expected values using given thetas\n",
    "def eStep(flip_trials, thetaA, thetaB):\n",
    "    h_A, t_A, h_B, t_B = 0,0,0,0\n",
    "    \n",
    "    #Add expected heads and tails for each coin for a trial\n",
    "    for flips in flip_trials:\n",
    "        heads = flips[0]\n",
    "        num_flips = flips[1]\n",
    "        #Calculate likelihood of each coin\n",
    "        ll_A = math.comb(num_flips,heads)*(thetaA**heads)*((1-thetaA)**(num_flips-heads))\n",
    "        ll_B = math.comb(num_flips,heads)*(thetaB**heads)*((1-thetaB)**(num_flips-heads))\n",
    "        p_A = 0\n",
    "        p_B = 0\n",
    "        #Calculate probability of heads\n",
    "        if ll_A > 0 and ll_B > 0:\n",
    "            p_A = ll_A/(ll_A+ll_B)\n",
    "            p_B = ll_B/(ll_A+ll_B)\n",
    "        #Generate data given the probabilites\n",
    "        h_A += heads*p_A\n",
    "        t_A += (num_flips-heads)*p_A\n",
    "        h_B += heads*p_B\n",
    "        t_B += (num_flips-heads)*p_B\n",
    "    return h_A, t_A, h_B, t_B\n",
    "\n",
    "def mStep(h_A,t_A,h_B,t_B):\n",
    "    #Calculate thetas with new data\n",
    "    thetaA = h_A/(h_A+t_A)\n",
    "    thetaB = h_B/(h_B+t_B)\n",
    "    return thetaA, thetaB"
   ]
  },
  {
   "cell_type": "code",
   "execution_count": 83,
   "metadata": {},
   "outputs": [],
   "source": [
    "d_heads = [14, 33, 19, 10, 0, 17, 24, 17, 1, 36, 5, 6, 5, 13, 4, 35, 5, 5, 74, 34]\n",
    "d_throws = [41, 43, 23, 23, 1, 23, 36, 37, 2, 131, 5, 29, 13, 47, 10, 58, 15, 14, 100, 113]"
   ]
  },
  {
   "cell_type": "code",
   "execution_count": 84,
   "metadata": {},
   "outputs": [],
   "source": [
    "flip_trials = []\n",
    "\n",
    "for i in range(len(d_heads)):\n",
    "    flip_trials.append((d_heads[i], d_throws[i]))"
   ]
  },
  {
   "cell_type": "code",
   "execution_count": 88,
   "metadata": {},
   "outputs": [],
   "source": [
    "results = EM(flip_trials, None, None, True, 10)"
   ]
  },
  {
   "cell_type": "code",
   "execution_count": 89,
   "metadata": {},
   "outputs": [
    {
     "name": "stdout",
     "output_type": "stream",
     "text": [
      "thetaA:  0.7125319098890046\n",
      "thetaB:  0.3141146477746653\n"
     ]
    }
   ],
   "source": [
    "print(\"thetaA: \", results[0])\n",
    "print(\"thetaB: \", results[1])"
   ]
  },
  {
   "cell_type": "code",
   "execution_count": 90,
   "metadata": {},
   "outputs": [
    {
     "name": "stdout",
     "output_type": "stream",
     "text": [
      "theta updates: \n"
     ]
    },
    {
     "data": {
      "text/plain": [
       "[(0.3007222359934232, 0.22828380647133317),\n",
       " (0.5062554658696968, 0.30173768130549655),\n",
       " (0.6570932566062019, 0.29655966554816493),\n",
       " (0.697188528302366, 0.3094442893149945),\n",
       " (0.70997653366269, 0.31345347007545804),\n",
       " (0.7121812755781055, 0.3140286100052292),\n",
       " (0.7124854039486518, 0.314103343752228),\n",
       " (0.7125257815076346, 0.31411316021537405),\n",
       " (0.7125311134647099, 0.31411445449242126),\n",
       " (0.7125318170542713, 0.3141146252453932),\n",
       " (0.7125319098890046, 0.3141146477746653)]"
      ]
     },
     "execution_count": 90,
     "metadata": {},
     "output_type": "execute_result"
    }
   ],
   "source": [
    "print(\"theta updates: \")\n",
    "results[2]"
   ]
  },
  {
   "cell_type": "code",
   "execution_count": null,
   "metadata": {},
   "outputs": [],
   "source": []
  }
 ],
 "metadata": {
  "kernelspec": {
   "display_name": "Python 3",
   "language": "python",
   "name": "python3"
  },
  "language_info": {
   "codemirror_mode": {
    "name": "ipython",
    "version": 3
   },
   "file_extension": ".py",
   "mimetype": "text/x-python",
   "name": "python",
   "nbconvert_exporter": "python",
   "pygments_lexer": "ipython3",
   "version": "3.8.5"
  }
 },
 "nbformat": 4,
 "nbformat_minor": 4
}
