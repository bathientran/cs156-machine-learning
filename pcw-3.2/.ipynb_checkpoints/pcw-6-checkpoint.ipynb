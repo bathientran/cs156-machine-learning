{
 "cells": [
  {
   "cell_type": "code",
   "execution_count": 19,
   "metadata": {},
   "outputs": [],
   "source": [
    "import matplotlib.pyplot as plt\n",
    "import numpy as np"
   ]
  },
  {
   "cell_type": "markdown",
   "metadata": {},
   "source": [
    "### Exercise 17.1 "
   ]
  },
  {
   "cell_type": "code",
   "execution_count": 20,
   "metadata": {},
   "outputs": [
    {
     "data": {
      "text/plain": [
       "<matplotlib.collections.PathCollection at 0x115e6adf0>"
      ]
     },
     "execution_count": 20,
     "metadata": {},
     "output_type": "execute_result"
    },
    {
     "data": {
      "image/png": "[encoded data removed]",
      "text/plain": [
       "<Figure size 432x288 with 1 Axes>"
      ]
     },
     "metadata": {
      "needs_background": "light"
     },
     "output_type": "display_data"
    }
   ],
   "source": [
    "x1 = [i for i in range(-10,10)]\n",
    "y1 = [i for i in range(-10,10)]\n",
    "x2 = [i for i in range(-10,10)]\n",
    "y2 = [i+5 for i in range(-10,10)]\n",
    "plt.scatter(x1, y1)\n",
    "plt.scatter(x2, y2, color=\"r\")"
   ]
  },
  {
   "cell_type": "markdown",
   "metadata": {},
   "source": [
    "If a dataset is linearly independent then they must be linearly separable at the same time since linear independence means that the data should live in separate subspaces that cannot be formed by elements of the other subset. This distinction is automatically allows separability."
   ]
  },
  {
   "cell_type": "markdown",
   "metadata": {},
   "source": [
    "### Exercise 17.2"
   ]
  },
  {
   "cell_type": "markdown",
   "metadata": {},
   "source": [
    "In OLS our error function can be described as:\n",
    "\n",
    "$$\\sum _{i=1} ^{n} (Y_i - (a + bX_i))^2 $$\n",
    "\n",
    "With normal equations:\n",
    "\n",
    "$$\\sum _{i=1} ^{n} (Y_i - (a + bX_i)) = 0 $$\n",
    " \n",
    "$$\\sum _{i=1} ^{n} X_i(Y_i - (a + bX_i)) = 0 $$\n",
    "\n",
    "Using the first normal equation we can rearrange to:\n",
    "\n",
    "$$\\sum _{i=1} ^{n} Y_i = \\sum _{i=1} ^{n} (a + bX_i))$$\n",
    "\n",
    "Dividing by N we get:\n",
    "\n",
    "$$\\bar{Y} = a + b\\bar{X}$$\n",
    "\n",
    "Which is equal to the sum of all points divided by N or the mean of the x's and y's of the dataset."
   ]
  },
  {
   "cell_type": "markdown",
   "metadata": {},
   "source": [
    "### Exercise 17.6"
   ]
  },
  {
   "cell_type": "markdown",
   "metadata": {},
   "source": [
    "The inverse function of the logistic sigmoid function is the logit function which lets us transform values between 0 and 1 to any real value between -infinity and +infinity which helps us reconstruct the effect of the coefficients."
   ]
  },
  {
   "cell_type": "markdown",
   "metadata": {},
   "source": [
    "### Exercise 8.3"
   ]
  },
  {
   "cell_type": "markdown",
   "metadata": {},
   "source": [
    "a)"
   ]
  },
  {
   "cell_type": "markdown",
   "metadata": {},
   "source": [
    "$$ \\sigma(a) = \\frac{1}{1+e^{-x}}  $$\n",
    "\n",
    "$$ \\frac{d\\sigma(a)}{da} = \\frac{d\\sigma(a)}{da}[\\frac{1}{1+e^{-x}}]$$\n",
    "\n",
    "$$ \\frac{d\\sigma(a)}{da} = \\frac{d\\sigma(a)}{da}{1+e^{-x}}^{-1}$$\n",
    "\n",
    "$$ \\frac{d\\sigma(a)}{da} = -({1+e^{-x}}^{-2}) -e^{-x}$$\n",
    "\n",
    "$$ \\frac{d\\sigma(a)}{da} = \\frac{e^{-x}}{(1+e^{-x})^2} $$\n",
    "\n",
    "$$ \\frac{d\\sigma(a)}{da} = \\frac{1}{(1+e^{-x})}\\frac{e^{-x}}{(1+e^{-x})} $$\n",
    "\n",
    "$$ \\frac{d\\sigma(a)}{da} = \\frac{1}{(1+e^{-x})}\\frac{e^{-x}+1-1}{(1+e^{-x})} $$\n",
    "\n",
    "$$ \\frac{d\\sigma(a)}{da} = \\frac{1}{(1+e^{-x})}(\\frac{1+e^{-x}}{(1+e^{-x})}-\\frac{1}{(1+e^{-x})}) $$\n",
    "\n",
    "$$ \\frac{d\\sigma(a)}{da} = \\frac{1}{(1+e^{-x})}(1-\\frac{1}{(1+e^{-x})}) $$\n",
    "\n",
    "$$ \\frac{d\\sigma(a)}{da} = \\sigma(a)(1-\\sigma(a)) $$"
   ]
  },
  {
   "cell_type": "markdown",
   "metadata": {},
   "source": [
    "b)"
   ]
  },
  {
   "cell_type": "markdown",
   "metadata": {},
   "source": [
    "Log Likelihood:\n",
    "\n",
    "$$ L(w,b) = \\sum_{n=1}^{N}c^nlog(\\sigma(b+w^Tx^n))+(1-c^n)log(1-\\sigma(b+w^Tx^n)) $$\n",
    "\n",
    "Derivative:\n",
    "\n",
    "$$ \\frac{dL(w,b)}{d(w,b)} = \\sum_{n=1}^{N}c^nlog(\\sigma(b+w^Tx^n))+(1-c^n)log(1-\\sigma(b+w^Tx^n)) $$\n",
    "\n",
    "$$ \\frac{dL(w,b)}{d(w,b)} = \\frac{dL(w,b)}{d(w,b)}\\sum_{n=1}^{N}c^nlog(\\sigma(b+w^Tx^n))+\\frac{dL(w,b)}{d(w,b)}(1-c^n)log(1-\\sigma(b+w^Tx^n)) $$\n",
    "\n",
    "$$ \\frac{dL(w,b)}{d(w,b)} = \\sum_{n=1}^{N}c^n\\frac{dL(w,b)}{d(w,b)}log(\\sigma(b+w^Tx^n))+(1-c^n)\\frac{dL(w,b)}{d(w,b)}log(1-\\sigma(b+w^Tx^n)) $$\n",
    "\n",
    "$$ \\frac{dL(w,b)}{d(w,b)} = c^n\\frac{1}{log(\\sigma(b+w^Tx^n))}\\frac{dL(w,b)}{d(w,b)} \\sigma(b+w^Tx^n)+(1-c^n)\\frac{1}{log(1-\\sigma(b+w^Tx^n))}\\frac{dL(w,b)}{d(w,b)}1-\\sigma(b+w^Tx^n) $$\n",
    "\n",
    "$$ \\frac{dL(w,b)}{d(w,b)} = c^n\\frac{1}{\\sigma(b+w^Tx^n)}\\frac{dL(w,b)}{d(w,b)} \\sigma(b+w^Tx^n)+(1-c^n)\\frac{1}{1-\\sigma(b+w^Tx^n)}\\frac{dL(w,b)}{d(w,b)}1-\\sigma(b+w^Tx^n) $$\n",
    "\n",
    "$$ \\frac{dL(w,b)}{d(w,b)} = \\frac{c^n}{\\sigma(b+w^Tx^n)}\\sigma(b+w^Tx^n)(1-\\sigma(b+w^Tx^n))x^n-\\frac{(1-c^n)}{1-\\sigma(b+w^Tx^n)}\\sigma(b+w^Tx^n)(1-\\sigma(b+w^Tx^n))x^n $$\n",
    "\n",
    "$$ \\frac{dL(w,b)}{d(w,b)} = (\\frac{c^n}{\\sigma(b+w^Tx^n)}-\\frac{1-c^n}{1-\\sigma(b+w^Tx^n)})\\sigma(b+w^Tx^n)(1-\\sigma(b+w^Tx^n))x^n $$\n",
    "\n",
    "$$ \\frac{dL(w,b)}{d(w,b)} = (\\frac{c^n-\\sigma(b+w^Tx^n)}{\\sigma(b+w^Tx^n)(1-\\sigma(b+w^Tx^n))})\\sigma(b+w^Tx^n)(1-\\sigma(b+w^Tx^n))x^n $$\n",
    "\n",
    "Gradient:\n",
    "\n",
    "$$ \\frac{dL(w,b)}{d(w,b)} = (c^n-\\sigma(b+w^Tx^n)x^n$$"
   ]
  },
  {
   "cell_type": "code",
   "execution_count": null,
   "metadata": {},
   "outputs": [],
   "source": []
  }
 ],
 "metadata": {
  "kernelspec": {
   "display_name": "Python 3",
   "language": "python",
   "name": "python3"
  },
  "language_info": {
   "codemirror_mode": {
    "name": "ipython",
    "version": 3
   },
   "file_extension": ".py",
   "mimetype": "text/x-python",
   "name": "python",
   "nbconvert_exporter": "python",
   "pygments_lexer": "ipython3",
   "version": "3.8.5"
  }
 },
 "nbformat": 4,
 "nbformat_minor": 4
}
