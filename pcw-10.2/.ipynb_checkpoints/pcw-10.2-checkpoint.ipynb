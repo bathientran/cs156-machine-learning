{
 "cells": [
  {
   "cell_type": "code",
   "execution_count": 222,
   "metadata": {},
   "outputs": [],
   "source": [
    "import numpy as np\n",
    "import random\n",
    "import math\n",
    "from itertools import *"
   ]
  },
  {
   "cell_type": "code",
   "execution_count": 247,
   "metadata": {},
   "outputs": [],
   "source": [
    "# adopted from http://web.cs.ucla.edu/~rosen/161/notes/hopfield.html\n",
    "class HopfieldNetwork:\n",
    "    def __init__(self, size):\n",
    "        self.size = size\n",
    "        self.weights = np.zeros((size,size))\n",
    "        \n",
    "    def store(self, input_vectors, debug):\n",
    "        if debug:\n",
    "            print(\"Starting training. Current weights: \")\n",
    "            print(self.weights)\n",
    "        for i in range(self.size):\n",
    "            for j in range(self.size):\n",
    "                if i == j:\n",
    "                    self.weights[i,j] = 0\n",
    "                else:\n",
    "                    interim_sum = 0\n",
    "                    for input_vector in input_vectors:\n",
    "                        interim_sum += (2*input_vector[i] - 1)*(2*input_vector[j] - 1)\n",
    "                    self.weights[i,j] = interim_sum\n",
    "        if debug:\n",
    "            print(\"Finished training. Current weights: \")\n",
    "            print(self.weights)\n",
    "    \n",
    "    def recall(self, input_vector, termination_rule, debug):\n",
    "        if debug:\n",
    "            print(\"Starting recall. Input vector: \", input_vector)\n",
    "        # store previous states\n",
    "        previous = {}\n",
    "        # store number of visits\n",
    "        visited = {key: 0 for key in range(self.size)}\n",
    "        termination = False\n",
    "        while termination == False:\n",
    "            node_choice = random.randint(0, self.size-1)\n",
    "            \n",
    "            visited[node_choice] += 1\n",
    "            previous[node_choice] = input_vector[node_choice]\n",
    "            \n",
    "            updated_value = np.dot(self.weights[:, node_choice],input_vector)\n",
    "            \n",
    "            if debug:\n",
    "                print(f\"At step {step} vector: {input_vector}. Chose index {node_choice+1} and value {updated_value}\")\n",
    "            if updated_value >= 0:\n",
    "                if debug:\n",
    "                    print(f\"Updated to {1}\")\n",
    "                input_vector[node_choice] = 1\n",
    "            else:\n",
    "                if debug:\n",
    "                    print(f\"Updated to {0}\")\n",
    "                input_vector[node_choice] = 0\n",
    "        \n",
    "            if all(value >= termination_rule for value in visited.values()) and previous[node_choice] == input_vector[node_choice]:\n",
    "                termination = True\n",
    "        \n",
    "        if debug:\n",
    "            print(\"Finished recall. Output vector:\", input_vector)\n",
    "        return input_vector\n",
    "        "
   ]
  },
  {
   "cell_type": "code",
   "execution_count": 248,
   "metadata": {},
   "outputs": [],
   "source": [
    "HN = HopfieldNetwork(5)"
   ]
  },
  {
   "cell_type": "code",
   "execution_count": 249,
   "metadata": {},
   "outputs": [],
   "source": [
    "HN.store([[0,1,1,0,1],[1,0,1,0,1]], False)"
   ]
  },
  {
   "cell_type": "code",
   "execution_count": 250,
   "metadata": {},
   "outputs": [
    {
     "data": {
      "text/plain": [
       "[0, 1, 1, 0, 1]"
      ]
     },
     "execution_count": 250,
     "metadata": {},
     "output_type": "execute_result"
    }
   ],
   "source": [
    "HN.recall([0,1,1,1,1],3, False)"
   ]
  },
  {
   "cell_type": "code",
   "execution_count": 240,
   "metadata": {},
   "outputs": [],
   "source": [
    "def generate_random_input(size):\n",
    "    return [random.randint(0,1) for _ in range(size)]\n",
    "\n",
    "def capacity_test(size):\n",
    "    # check if error\n",
    "    error = False\n",
    "    HN = HopfieldNetwork(size)\n",
    "    # count number of memories stored\n",
    "    memories_stored = 0\n",
    "    while error == False:\n",
    "        # add one memory\n",
    "        memories_stored += 1\n",
    "        inputs = []\n",
    "        # create inputs based on number of memories\n",
    "        for _ in range(memories_stored):\n",
    "            generated_input = generate_random_input(size) \n",
    "            if generated_input not in inputs:\n",
    "                inputs.append(generated_input)\n",
    "        # store all memories in network\n",
    "        HN.store(inputs, False)\n",
    "        # recall a corrupted version of a memory\n",
    "        for input_vector in inputs:\n",
    "            # corrupt memory\n",
    "            choice = random.randint(0,size-1)\n",
    "            if input_vector[choice] == 1:\n",
    "                input_vector[choice] = 0\n",
    "            else:\n",
    "                input_vector[choice] = 1\n",
    "            # get recall\n",
    "            output = HN.recall(input_vector, 3, False)\n",
    "            # check if recall is not one of the memories\n",
    "            if output not in inputs:\n",
    "                error = True\n",
    "        # stop if memories is equal to all possible permutations\n",
    "        if memories_stored == len(list(product([0,1],repeat=size))):\n",
    "                error = True\n",
    "    return memories_stored"
   ]
  },
  {
   "cell_type": "code",
   "execution_count": 242,
   "metadata": {},
   "outputs": [
    {
     "data": {
      "text/plain": [
       "1024"
      ]
     },
     "execution_count": 242,
     "metadata": {},
     "output_type": "execute_result"
    }
   ],
   "source": [
    "capacity_test(10)"
   ]
  },
  {
   "cell_type": "markdown",
   "metadata": {},
   "source": [
    "I was not able to successfuly test for capacities since it seemed like there were no errors which could be an implementation mistake. As described in the book we should find $N_{critical}$ to be $0.138I$ where $N$ is the number of successfully memorized vectors and $I$ the number of neurons/ nodes. This should also be shown by the graph but unfortunately, I am not able to produce it."
   ]
  }
 ],
 "metadata": {
  "kernelspec": {
   "display_name": "Python 3",
   "language": "python",
   "name": "python3"
  },
  "language_info": {
   "codemirror_mode": {
    "name": "ipython",
    "version": 3
   },
   "file_extension": ".py",
   "mimetype": "text/x-python",
   "name": "python",
   "nbconvert_exporter": "python",
   "pygments_lexer": "ipython3",
   "version": "3.8.5"
  }
 },
 "nbformat": 4,
 "nbformat_minor": 4
}
