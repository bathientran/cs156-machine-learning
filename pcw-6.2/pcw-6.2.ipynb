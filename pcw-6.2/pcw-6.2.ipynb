{
 "cells": [
  {
   "cell_type": "markdown",
   "metadata": {},
   "source": [
    "### 1. Maximum Likelihood Estimation of a Bernoulli Distribution"
   ]
  },
  {
   "cell_type": "markdown",
   "metadata": {},
   "source": [
    "Probability density function for population:"
   ]
  },
  {
   "cell_type": "markdown",
   "metadata": {},
   "source": [
    "$$f(x_i|p)=p^{x_i}(1-p)^{1-x_i}$$"
   ]
  },
  {
   "cell_type": "markdown",
   "metadata": {},
   "source": [
    "$$f(x_1, x_2, x_3, ..., x_n|p)=p^{x_1}(1-p)^{1-x_1}*p^{x_2}(1-p)^{1-x_2},...,p^{x_n}(1-p)^{1-x_n}$$"
   ]
  },
  {
   "cell_type": "markdown",
   "metadata": {},
   "source": [
    "Probability that we observed the samples given the probability of eating meat:"
   ]
  },
  {
   "cell_type": "markdown",
   "metadata": {},
   "source": [
    "$$P(x_1=x_1, x_2=x_2, ..., x_n=x_n) = \\prod_{i=1}^{N} p^{x_i}(1-p)^{1-x_i}=L$$"
   ]
  },
  {
   "cell_type": "markdown",
   "metadata": {},
   "source": [
    "Finding maximum likelihood using differentiation:\n",
    "$$\\frac {\\delta L}{\\delta p}=0$$"
   ]
  },
  {
   "cell_type": "markdown",
   "metadata": {},
   "source": [
    "Using log-likelihood to be able to apply differentiation:"
   ]
  },
  {
   "cell_type": "markdown",
   "metadata": {},
   "source": [
    "$$l=log(L)=\\sum _{i=1} ^{N} log(p^{x_i}(1-p)^{1-x_i})$$\n",
    "$$l=log(L)=\\sum _{i=1} ^{N} log(p){x_i}+log(1-p)1-x_i$$\n",
    "$$l=log(L)=log(p)\\sum _{i=1} ^{N}{x_i}+log(1-p)\\sum _{i=1} ^{N}1-x_i$$\n",
    "$$l=log(L)=log(p)\\bar x+log(1-p)N(1-\\bar x)$$"
   ]
  },
  {
   "cell_type": "markdown",
   "metadata": {},
   "source": [
    "$$\\frac {\\delta l}{\\delta p}=\\frac {N\\bar x}{p}-\\frac {N(1-\\bar x)}{1-p}=0$$\n",
    "$$\\frac {N\\bar x}{p}=\\frac {N(1-\\bar x)}{1-p}$$\n",
    "$$\\frac {\\bar x}{p}=\\frac {(1-\\bar x)}{1-p}$$\n",
    "$${\\bar x(1-p)}={(1-\\bar x)p}$$\n",
    "$${\\bar x-\\bar xp}={p-p\\bar x}$$\n",
    "$${\\bar x}={p}$$"
   ]
  },
  {
   "cell_type": "markdown",
   "metadata": {},
   "source": [
    "The maximum likelihood estimator for p is the sample mean of students that eat meat. This makes sense as they are randomly selected from the entire population and should, thus, have a similar distribution as the population and consequently probability to eat meat."
   ]
  },
  {
   "cell_type": "markdown",
   "metadata": {},
   "source": [
    "### 2. Maximum Likelihood Estimation for a Normal Distribution"
   ]
  },
  {
   "cell_type": "markdown",
   "metadata": {},
   "source": [
    "Following the same principle as in the first task, we can derive the log-likelihood function from a normal distribution function."
   ]
  },
  {
   "cell_type": "markdown",
   "metadata": {},
   "source": [
    "$$P(x;\\mu,\\sigma)=\\frac{1}{\\sigma\\sqrt{2\\pi}}exp(-\\frac{(x-\\mu)^2}{2\\sigma^2})$$"
   ]
  },
  {
   "cell_type": "markdown",
   "metadata": {},
   "source": [
    "$$P(x_1, x_2, ..., x_n;\\mu,\\sigma)=\\prod _{i=1}^{N} \\frac{1}{\\sigma\\sqrt{2\\pi}}exp(-\\frac{(x_i-\\mu)^2}{2\\sigma^2})=L$$"
   ]
  },
  {
   "cell_type": "markdown",
   "metadata": {},
   "source": [
    "$$l=ln(L)=ln(\\frac{1}{\\sigma\\sqrt{2\\pi}})-\\frac{(x_1-\\mu)^2}{2\\sigma^2} + ln(\\frac{1}{\\sigma\\sqrt{2\\pi}})-\\frac{(x_2-\\mu)^2}{2\\sigma^2}, ..., ln(\\frac{1}{\\sigma\\sqrt{2\\pi}})-\\frac{(x_3-\\mu)^2}{2\\sigma^2}$$"
   ]
  },
  {
   "cell_type": "markdown",
   "metadata": {},
   "source": [
    "$$l = -\\frac{n}{2}ln(2\\pi)-\\frac{n}{2}ln(\\sigma^2)-\\frac{1}{2\\sigma^2}\\sum_{j=1}^{N}(x_j-\\mu)^2$$"
   ]
  },
  {
   "cell_type": "markdown",
   "metadata": {},
   "source": [
    "Deriving partial derivative for the mean:\n",
    "$$\\frac{\\delta l}{\\delta \\mu}=\\frac{1}{\\sigma^2}\\sum_{j=1}^{N}(x_j-\\mu)^2$$\n",
    "$$\\frac{1}{\\sigma^2}\\sum_{j=1}^{N}(x_j-\\mu)=0$$\n",
    "\n",
    "Since the sum term only defines whether the product is 0 or not:\n",
    "$$\\sum_{j=1}^{N}(x_j-\\mu)=0$$\n",
    "$$\\mu=\\frac{1}{N}\\sum_{j=1}^{N}x_j$$"
   ]
  },
  {
   "cell_type": "markdown",
   "metadata": {},
   "source": [
    "Deriving partial derivative for the variance:\n",
    "$$\\frac{\\delta l}{\\delta \\sigma^2}=\\frac{1}{2\\sigma^2}(\\frac{1}{\\sigma^2}\\sum_{j=1}^{N}(x_j-\\mu)^2-n)$$\n",
    "$$\\frac{1}{2\\sigma^2}(\\frac{1}{\\sigma^2}\\sum_{j=1}^{N}(x_j-\\mu)^2-n)=0$$\n",
    "\n",
    "Since the sum term only defines whether the product is 0 or not (excluding $\\sigma^2=0$):\n",
    "$$\\frac{1}{\\sigma^2}\\sum_{j=1}^{N}(x_j-\\mu)^2-n=0$$\n",
    "$$\\sigma^2=\\frac{1}{N}\\sum_{j=1}^{N}(x_j-\\mu)^2$$"
   ]
  },
  {
   "cell_type": "markdown",
   "metadata": {},
   "source": [
    "The maximum likelihood estimators are equal to the formulas for the mean and the variance of a normal distribution."
   ]
  }
 ],
 "metadata": {
  "kernelspec": {
   "display_name": "Python 3",
   "language": "python",
   "name": "python3"
  },
  "language_info": {
   "codemirror_mode": {
    "name": "ipython",
    "version": 3
   },
   "file_extension": ".py",
   "mimetype": "text/x-python",
   "name": "python",
   "nbconvert_exporter": "python",
   "pygments_lexer": "ipython3",
   "version": "3.8.3"
  }
 },
 "nbformat": 4,
 "nbformat_minor": 4
}
